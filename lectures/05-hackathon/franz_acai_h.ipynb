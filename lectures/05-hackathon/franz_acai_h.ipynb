{
 "cells": [
  {
   "cell_type": "markdown",
   "metadata": {
    "id": "NBwSJ5VBTwrB"
   },
   "source": [
    "# Looking for hosted astrophysical transients with CNNs + MLPs (ACAI)"
   ]
  },
  {
   "cell_type": "markdown",
   "metadata": {
    "id": "RIthbFR1TwrC"
   },
   "source": [
    "<img src=\"https://miro.medium.com/v2/resize:fit:1400/0*n6zzxzDrGFPV6Tue.png\" style=\"height: 400px\" />"
   ]
  },
  {
   "cell_type": "markdown",
   "metadata": {
    "id": "RDzsqHqBTwrC"
   },
   "source": [
    "\"*Astronomy has been experiencing an explosive increase in the data volumes, doubling every two years or so.*\n",
    "\n",
    "*At the forefront of this revolution, the  Zwicky Transient Facility (ZTF) – a robotic sky survey – registers millions of transient events (supernova explosions, asteroids, variable stars changing their brightness etc.) in the dynamic sky every (clear) night.*\n",
    "\n",
    "*Here we present astrophysical Alert-Classifying AI (ACAI), an open-source DL framework for the phenomenological classification of ZTF events.*\"\n",
    "\n",
    "`Dima Duev, et al. (2021) [arXiv:2111.12142](https://arxiv.org/abs/2111.12142)`"
   ]
  },
  {
   "cell_type": "markdown",
   "metadata": {
    "id": "iWhjn8DXTwrD"
   },
   "source": [
    "---\n",
    "## Introduction\n",
    "\n",
    "ZTF simply detects too many things, and depending on your science case, you might be looking for specific types of transients only. Often, the location of the transient in the sky along with other information about what is in its vicinity - or what isn't - can be a good indicator of what type of transient it is, though it is not enough to find its exact nature.\n",
    "\n",
    "Phenomenological classification of transients will not look for specific types (like SN Ia, SN II, RR Lyrae, AGN, etc.), but rather provide useful information about some of the transient's properties that might help narrow down the search for the exact nature of the transient.\n",
    "\n",
    "**Alert-Classifying Artificial Intelligence (ACAI)**, comes in 5 flavors of binary classifiers, each trained to answer a specific question about the transient:\n",
    "- **acai_h**: Transients in the vicinity of a \"host\" galaxy with detectable morphology, but not located at its nucleus. These objects are likely to be supernovae, novae, or cataclysmic variables near galaxy-like objects.\n",
    "- **acai_o**: Transients with no identifiable host galaxy, but that are unlikely to be variable stars in our own galaxy. These objects are likely to be asteroids, comets, hostless (or very distant and/or faint hosts) transients.\n",
    "- **acai_n**: Transients located at the nucleus of their host galaxy. These objects are likely to be active galactic nuclei (AGN), or TDEs.\n",
    "- **acai_v**: Transients that are not only detectable in the new/science image but in the reference image, with positive or negative subtraction (positive or negative changes in brightness when compared to the reference image), detected regularly. These objects are likely to be variable stars.\n",
    "- **acai_b**: Alerts that are unlikely to be real astrophysical transients. These objects are likely to be artifacts, noise, cosmic ray hist, man-made satellites, etc. You'll notice that this is very similar to the existing `drb` (real/bogus) score already provided in the alerts.\n",
    "\n",
    "*Compared to a model like **BRAAI** (ZTF's image-only real/bogus classifier), **ACAI** is multi-modal, meaning it uses both the image and the alert's metadata to make a decision. The architecture of models like **BTSbot** is inspired by ACAI, but they rely on different metadata features and are trained to answer a different question.*\n",
    "\n",
    "**In this notebook**, we will focus on **acai_h**, which along with other filtering steps can help us identify SNe candidates in the ZTF alert stream, or other fast evolving hosted transients."
   ]
  },
  {
   "cell_type": "markdown",
   "metadata": {
    "id": "nesrzHbBXgzM"
   },
   "source": [
    "---\n",
    "### Select the Google Colab runner *(optional, only if running on Colab)*:\n",
    "\n",
    "You'll want to click on `Runtime` (top left of the screen) -> `Change runtime type` -> then select `T4 GPU`.\n",
    "\n",
    "\n",
    "##### **Suggestion**:\n",
    "For those that have ~30GB (necessary while decompressing the dataset, but only ~20GB needed after that) to spare, we really encourage you to run this notebook on your own machine. Though it will run on colab, reading from disk on colab is surprisingly slower than on most low-end laptops. Since we have lots of image data in this dataset (more than can fit in memory), we need to read it from disk. Therefore we really recommend running all of this locally if you are able to."
   ]
  },
  {
   "cell_type": "markdown",
   "metadata": {
    "id": "p8zXqRKCTwrD"
   },
   "source": [
    "---\n",
    "### Install and Import Libraries\n",
    "\n",
    "Let's start by importing the necessary python libraries/packages. Today we'll use:\n",
    "- `numpy` for fast numerical operations and array handling\n",
    "- `pandas` for data manipulation and analysis + dataframe support\n",
    "- `matplotlib` for plotting and visualization\n",
    "- `tensorflow` for building and training the CNN + MLP (multi-modal model)\n",
    "- `os` for file handling and directory operations\n",
    "- `io` for handling file/bytes streams\n",
    "- `astropy` for handling astro file formats andastro-related visualization\n",
    "- `datetime` for handling dates and times where needed.\n",
    "\n",
    "*PS: you might get some warnings especially coming from `astropy` and `tensorflow`, you can ignore them for now. Please reach out to one of the instructors (or by email at tdulaz@caltech.edu) if you encounter any issues.*"
   ]
  },
  {
   "cell_type": "code",
   "execution_count": 1,
   "metadata": {
    "id": "8UPtjTuITwrD"
   },
   "outputs": [
    {
     "name": "stderr",
     "output_type": "stream",
     "text": [
      "2024-08-02 10:24:28.717610: I tensorflow/core/util/port.cc:113] oneDNN custom operations are on. You may see slightly different numerical results due to floating-point round-off errors from different computation orders. To turn them off, set the environment variable `TF_ENABLE_ONEDNN_OPTS=0`.\n",
      "2024-08-02 10:24:28.755361: I tensorflow/core/platform/cpu_feature_guard.cc:210] This TensorFlow binary is optimized to use available CPU instructions in performance-critical operations.\n",
      "To enable the following instructions: SSE4.1 SSE4.2 AVX AVX2 AVX_VNNI FMA, in other operations, rebuild TensorFlow with the appropriate compiler flags.\n"
     ]
    }
   ],
   "source": [
    "import datetime\n",
    "import io\n",
    "import os\n",
    "\n",
    "import matplotlib.pyplot as plt\n",
    "import numpy as np\n",
    "import pandas as pd\n",
    "import tensorflow as tf # can take some time the first time this is imported\n",
    "\n",
    "from astropy.io import fits\n",
    "from astropy.visualization import (\n",
    "    AsymmetricPercentileInterval,\n",
    "    ImageNormalize,\n",
    "    LinearStretch,\n",
    "    LogStretch,\n",
    ")\n",
    "from tensorflow.data import Dataset\n",
    "from tensorflow.keras import layers, Model, optimizers"
   ]
  },
  {
   "cell_type": "markdown",
   "metadata": {
    "id": "WFC1QTcYTwrE"
   },
   "source": [
    "---\n",
    "## Dataset\n",
    "\n",
    "The dataset is composed of ~200k individual ZTF alerts (individual detections of many transients, not individual transients, meaning that the number of unique objects is much lower) labeled as: `h` (hosted), `o` (orphan), `n` (nuclear), `v` (variable), and `b` (bogus). Later on, the dataset will be split into training, validation, and test sets, with 80%, 10%, and 10% of the data in each set, respectively.\n",
    "\n",
    "*Like in most datasets, the classes are imbalanced, with the `v` (variable) class being the most common, and the `h` (hosted) and `o` (orphan) classes being the least common. To ensure good performance of a model, it will be important to assign weights to each classes, to give more importance to the classes that appear less frequently, effectively balancing the dataset.*\n",
    "\n",
    "**Let's start by downloading the dataset (~8GB compressed, ~17GB uncompressed) and decompressing it.**\n",
    "\n",
    "For that, make sure you pinned https://drive.google.com/file/d/1PsbKYzMxmUFzGN4UFSQxfnYP2fofQHnj/view?usp=drive_link to your own Google drive. Then, run the cell above to attach this notebook to your drive."
   ]
  },
  {
   "cell_type": "markdown",
   "metadata": {
    "id": "ZRKI-aedKhUe"
   },
   "source": [
    "Next up, replace (if necessary only) this path by the path to the file in your google drive. We'll use it to decompress the dataset, and put it in the right place.\n",
    "\n",
    "**This will ~6 minutes to run, as the dataset is composed of many small files.** I strongly suggest scrolling through the notebook to use that time to understand some of the code and the data. **DO NOT RUN IT AGAIN.** Just uncomment it, run it, and comment it out again."
   ]
  },
  {
   "cell_type": "code",
   "execution_count": 2,
   "metadata": {
    "id": "xjhBNjg1KxHD"
   },
   "outputs": [],
   "source": [
    "#!cd /tmp && tar -xvzf /content/drive/MyDrive/acai_dataset/acai_data.tar.gz"
   ]
  },
  {
   "cell_type": "markdown",
   "metadata": {
    "id": "ol_cDwjBTwrE"
   },
   "source": [
    "**Dataset details:**\n",
    "\n",
    "The dataset found in `data` is composed of:\n",
    "- `d1.csv` - is a dataframe (table) with 3 columns: `objectId`, `candid`, and a `label` (h, o, n, v, b). The `objectId` and `candid` columns are used to match the alerts with the images, and in general useful to keep track of the object's name if you'd like to look it up online to see the lightcurve or some more metadata. You can use any of the public brokers for that, e.g. Fink, Alerce, ANTARES, etc.\n",
    "- `features.d1.npy` - is a numpy array with the features extracted from the alerts. `acai` models use a total of 25 metadata features, so this is how many values you'll find in each element of the array. It's essentially a 2D array with shape `(n, 25)`, where `n` is the number of alerts in the dataset. The features here are ordered in the same way as the alerts in the `d1.csv` file, so no need to worry about matching them as long as you keep the order.\n",
    "- `triplets/<candid>.npy` - where candid is the `candid` of an alert. The `triplets` folder contains the cutouts of the alerts, which are 3D arrays with shape `(63, 63, 3)`. The first element is the science image, the second is the reference image, and the third is the difference image. The difference image is the subtraction of the science and reference images, and it's the one from which we extra the photometry and some of the features. If anything changed in the sky, it should be visible in the difference image. The data in there is already normalized, so you can use it directly to train a model.\n",
    "\n",
    "**Let's start by loading the data from `d1.csv` and `features.d1.npy` files, and creating a list of file paths for the cutouts/images.**"
   ]
  },
  {
   "cell_type": "code",
   "execution_count": 3,
   "metadata": {
    "id": "vEUGaelzTwrE"
   },
   "outputs": [],
   "source": [
    "dataset_path = os.path.join(os.getcwd(), 'data', 'acai_data')\n",
    "\n",
    "# here we load the metadata features\n",
    "features = np.load(f'{dataset_path}/features.d1.npy')\n",
    "\n",
    "# here we load the labels + candid so we can match the images files with the labels later\n",
    "labels = pd.read_csv(f'{dataset_path}/d1.csv')\n",
    "\n",
    "# using the candid column, create an ordered list of the files we want to load to get the images\n",
    "triplets = np.array([f\"{dataset_path}/triplets/{candid}.npy\" for candid in labels.candid.values])\n",
    "\n",
    "# verify that all files exist\n",
    "for triplet in triplets:\n",
    "    assert os.path.exists(triplet), f'Missing {triplet}!!!'"
   ]
  },
  {
   "cell_type": "markdown",
   "metadata": {
    "id": "uNmoXfu6TwrF"
   },
   "source": [
    "**Next let's print the shapes of:**\n",
    "- the features\n",
    "- the labels\n",
    "- the shape of the images = nb images x dimension of one image"
   ]
  },
  {
   "cell_type": "code",
   "execution_count": 4,
   "metadata": {
    "colab": {
     "base_uri": "https://localhost:8080/"
    },
    "id": "BC0PkqQGTwrF",
    "outputId": "42843751-4133-4509-8932-769f4db152d1"
   },
   "outputs": [
    {
     "name": "stdout",
     "output_type": "stream",
     "text": [
      "We have 186319 images of shape (63, 63, 3)\n",
      "Features shape: (186319, 25)\n",
      "Labels shape: (186319, 3)\n"
     ]
    }
   ],
   "source": [
    "nb_images, image = len(triplets), np.load(triplets[0])\n",
    "\n",
    "print(f\"We have {nb_images} images of shape {image.shape}\")\n",
    "print(f\"Features shape: {features.shape}\")\n",
    "print(f\"Labels shape: {labels.shape}\")\n",
    "\n",
    "# verify that the number of entries matches, throws an error if not\n",
    "assert features.shape[0] == labels.shape[0] == nb_images"
   ]
  },
  {
   "cell_type": "markdown",
   "metadata": {
    "id": "9cY1Dq8bTwrF"
   },
   "source": [
    "*You might be wondering why we can't just load the images in one go just like we do for the features and labels. The reason is that the images are too large to fit all of them in memory at once, so we'll have to load them in batches during training, validation, and testing.*\n",
    "\n",
    "**Let's take a look at each of the files and their contents. We'll start with `d1.csv`:**"
   ]
  },
  {
   "cell_type": "code",
   "execution_count": 5,
   "metadata": {
    "colab": {
     "base_uri": "https://localhost:8080/",
     "height": 363
    },
    "id": "7ZQzaQnaTwrF",
    "outputId": "17df6ac0-0c66-40f5-86ee-c9d6b62f7a6f"
   },
   "outputs": [
    {
     "data": {
      "text/html": [
       "<div>\n",
       "<style scoped>\n",
       "    .dataframe tbody tr th:only-of-type {\n",
       "        vertical-align: middle;\n",
       "    }\n",
       "\n",
       "    .dataframe tbody tr th {\n",
       "        vertical-align: top;\n",
       "    }\n",
       "\n",
       "    .dataframe thead th {\n",
       "        text-align: right;\n",
       "    }\n",
       "</style>\n",
       "<table border=\"1\" class=\"dataframe\">\n",
       "  <thead>\n",
       "    <tr style=\"text-align: right;\">\n",
       "      <th></th>\n",
       "      <th>objectId</th>\n",
       "      <th>label</th>\n",
       "      <th>candid</th>\n",
       "    </tr>\n",
       "  </thead>\n",
       "  <tbody>\n",
       "    <tr>\n",
       "      <th>0</th>\n",
       "      <td>ZTF18aamdfrd</td>\n",
       "      <td>v</td>\n",
       "      <td>832404312515015010</td>\n",
       "    </tr>\n",
       "    <tr>\n",
       "      <th>1</th>\n",
       "      <td>ZTF18aamdfrd</td>\n",
       "      <td>v</td>\n",
       "      <td>1154531552515015058</td>\n",
       "    </tr>\n",
       "    <tr>\n",
       "      <th>2</th>\n",
       "      <td>ZTF18aamdfrd</td>\n",
       "      <td>v</td>\n",
       "      <td>828336622515015005</td>\n",
       "    </tr>\n",
       "    <tr>\n",
       "      <th>3</th>\n",
       "      <td>ZTF18aabeofd</td>\n",
       "      <td>v</td>\n",
       "      <td>1316186040315010000</td>\n",
       "    </tr>\n",
       "    <tr>\n",
       "      <th>4</th>\n",
       "      <td>ZTF18aabeofd</td>\n",
       "      <td>v</td>\n",
       "      <td>1242291070315010002</td>\n",
       "    </tr>\n",
       "    <tr>\n",
       "      <th>5</th>\n",
       "      <td>ZTF18aabeofd</td>\n",
       "      <td>v</td>\n",
       "      <td>1182374230315010056</td>\n",
       "    </tr>\n",
       "    <tr>\n",
       "      <th>6</th>\n",
       "      <td>ZTF17aaaduya</td>\n",
       "      <td>v</td>\n",
       "      <td>1047205065915010001</td>\n",
       "    </tr>\n",
       "    <tr>\n",
       "      <th>7</th>\n",
       "      <td>ZTF17aaaduya</td>\n",
       "      <td>v</td>\n",
       "      <td>1140102715915010005</td>\n",
       "    </tr>\n",
       "    <tr>\n",
       "      <th>8</th>\n",
       "      <td>ZTF17aaaduya</td>\n",
       "      <td>v</td>\n",
       "      <td>676199575915010003</td>\n",
       "    </tr>\n",
       "    <tr>\n",
       "      <th>9</th>\n",
       "      <td>ZTF18aatwnet</td>\n",
       "      <td>v</td>\n",
       "      <td>1259381461515015014</td>\n",
       "    </tr>\n",
       "  </tbody>\n",
       "</table>\n",
       "</div>"
      ],
      "text/plain": [
       "       objectId label               candid\n",
       "0  ZTF18aamdfrd     v   832404312515015010\n",
       "1  ZTF18aamdfrd     v  1154531552515015058\n",
       "2  ZTF18aamdfrd     v   828336622515015005\n",
       "3  ZTF18aabeofd     v  1316186040315010000\n",
       "4  ZTF18aabeofd     v  1242291070315010002\n",
       "5  ZTF18aabeofd     v  1182374230315010056\n",
       "6  ZTF17aaaduya     v  1047205065915010001\n",
       "7  ZTF17aaaduya     v  1140102715915010005\n",
       "8  ZTF17aaaduya     v   676199575915010003\n",
       "9  ZTF18aatwnet     v  1259381461515015014"
      ]
     },
     "execution_count": 5,
     "metadata": {},
     "output_type": "execute_result"
    }
   ],
   "source": [
    "# let's look at `d1.csv` first 10 rows\n",
    "labels.head(10)"
   ]
  },
  {
   "cell_type": "code",
   "execution_count": 6,
   "metadata": {
    "colab": {
     "base_uri": "https://localhost:8080/",
     "height": 272
    },
    "id": "YFLQbJn7TwrF",
    "outputId": "541edb67-89a7-45e0-d7a8-899677629454"
   },
   "outputs": [
    {
     "data": {
      "text/plain": [
       "label\n",
       "b    15.082734\n",
       "h    15.345724\n",
       "n    19.059248\n",
       "o    13.934167\n",
       "v    36.578127\n",
       "dtype: float64"
      ]
     },
     "execution_count": 6,
     "metadata": {},
     "output_type": "execute_result"
    }
   ],
   "source": [
    "# let's get an idea of how unbalanced the dataset is. For that, we can compute percentage of each class\n",
    "labels.groupby(\"label\").size() / len(labels) * 100"
   ]
  },
  {
   "cell_type": "markdown",
   "metadata": {
    "id": "bHWeE22hTwrF"
   },
   "source": [
    "Turns out that most classes are balanced, but we clearly have more examples of `v` (variable) alerts than the other classes. This makes a lot of sense since these variable stars are long lived transients we detect often (pretty much at every visit of a ZTF field). The `o` (orphan) classe is the least common, which is also expected since these are things like solar system objects. They are common too, but since we detect them often only once at a given position (meaning just one alert for a given objectId since the names are spatially associated), so it can get a little hard to tell them apart from noise/bogus alerts.\n",
    "\n",
    "**Next, let's look at the metadata features from `features.d1.npy`:**"
   ]
  },
  {
   "cell_type": "code",
   "execution_count": 7,
   "metadata": {
    "colab": {
     "base_uri": "https://localhost:8080/",
     "height": 412
    },
    "id": "yclEn4iTTwrF",
    "outputId": "772b2794-236c-4fe4-87c9-820dbaf20f25"
   },
   "outputs": [
    {
     "data": {
      "text/html": [
       "<div>\n",
       "<style scoped>\n",
       "    .dataframe tbody tr th:only-of-type {\n",
       "        vertical-align: middle;\n",
       "    }\n",
       "\n",
       "    .dataframe tbody tr th {\n",
       "        vertical-align: top;\n",
       "    }\n",
       "\n",
       "    .dataframe thead th {\n",
       "        text-align: right;\n",
       "    }\n",
       "</style>\n",
       "<table border=\"1\" class=\"dataframe\">\n",
       "  <thead>\n",
       "    <tr style=\"text-align: right;\">\n",
       "      <th></th>\n",
       "      <th>drb</th>\n",
       "      <th>diffmaglim</th>\n",
       "      <th>ra</th>\n",
       "      <th>dec</th>\n",
       "      <th>magpsf</th>\n",
       "      <th>sigmapsf</th>\n",
       "      <th>chipsf</th>\n",
       "      <th>fwhm</th>\n",
       "      <th>sky</th>\n",
       "      <th>chinr</th>\n",
       "      <th>...</th>\n",
       "      <th>sgscore3</th>\n",
       "      <th>distpsnr3</th>\n",
       "      <th>ndethist</th>\n",
       "      <th>ncovhist</th>\n",
       "      <th>scorr</th>\n",
       "      <th>nmtchps</th>\n",
       "      <th>clrcoeff</th>\n",
       "      <th>clrcounc</th>\n",
       "      <th>neargaia</th>\n",
       "      <th>neargaiabright</th>\n",
       "    </tr>\n",
       "  </thead>\n",
       "  <tbody>\n",
       "    <tr>\n",
       "      <th>0</th>\n",
       "      <td>0.999961</td>\n",
       "      <td>20.573124</td>\n",
       "      <td>215.887714</td>\n",
       "      <td>40.188635</td>\n",
       "      <td>20.122263</td>\n",
       "      <td>0.187672</td>\n",
       "      <td>1.116026</td>\n",
       "      <td>2.770000</td>\n",
       "      <td>-0.110588</td>\n",
       "      <td>0.541</td>\n",
       "      <td>...</td>\n",
       "      <td>0.799857</td>\n",
       "      <td>26.719685</td>\n",
       "      <td>69.0</td>\n",
       "      <td>699.0</td>\n",
       "      <td>10.027220</td>\n",
       "      <td>4.0</td>\n",
       "      <td>-0.071005</td>\n",
       "      <td>0.000030</td>\n",
       "      <td>0.263039</td>\n",
       "      <td>-999.0</td>\n",
       "    </tr>\n",
       "    <tr>\n",
       "      <th>1</th>\n",
       "      <td>0.991094</td>\n",
       "      <td>20.497231</td>\n",
       "      <td>215.888024</td>\n",
       "      <td>40.188552</td>\n",
       "      <td>20.180290</td>\n",
       "      <td>0.213557</td>\n",
       "      <td>1.277902</td>\n",
       "      <td>2.240000</td>\n",
       "      <td>-0.327813</td>\n",
       "      <td>0.541</td>\n",
       "      <td>...</td>\n",
       "      <td>0.009375</td>\n",
       "      <td>26.132204</td>\n",
       "      <td>109.0</td>\n",
       "      <td>1259.0</td>\n",
       "      <td>7.601007</td>\n",
       "      <td>4.0</td>\n",
       "      <td>-0.082270</td>\n",
       "      <td>0.000371</td>\n",
       "      <td>0.680922</td>\n",
       "      <td>-999.0</td>\n",
       "    </tr>\n",
       "    <tr>\n",
       "      <th>2</th>\n",
       "      <td>0.999996</td>\n",
       "      <td>20.812113</td>\n",
       "      <td>215.887844</td>\n",
       "      <td>40.188619</td>\n",
       "      <td>19.646261</td>\n",
       "      <td>0.114800</td>\n",
       "      <td>1.048080</td>\n",
       "      <td>2.010000</td>\n",
       "      <td>0.010978</td>\n",
       "      <td>0.541</td>\n",
       "      <td>...</td>\n",
       "      <td>0.799857</td>\n",
       "      <td>26.574293</td>\n",
       "      <td>60.0</td>\n",
       "      <td>675.0</td>\n",
       "      <td>12.571731</td>\n",
       "      <td>4.0</td>\n",
       "      <td>-0.061227</td>\n",
       "      <td>0.000017</td>\n",
       "      <td>0.135656</td>\n",
       "      <td>-999.0</td>\n",
       "    </tr>\n",
       "    <tr>\n",
       "      <th>3</th>\n",
       "      <td>0.999980</td>\n",
       "      <td>20.316908</td>\n",
       "      <td>215.545482</td>\n",
       "      <td>30.056814</td>\n",
       "      <td>18.875511</td>\n",
       "      <td>0.090739</td>\n",
       "      <td>6.044485</td>\n",
       "      <td>2.340000</td>\n",
       "      <td>-0.431299</td>\n",
       "      <td>0.459</td>\n",
       "      <td>...</td>\n",
       "      <td>0.004167</td>\n",
       "      <td>9.024582</td>\n",
       "      <td>1043.0</td>\n",
       "      <td>2083.0</td>\n",
       "      <td>8.938406</td>\n",
       "      <td>7.0</td>\n",
       "      <td>0.103461</td>\n",
       "      <td>0.000017</td>\n",
       "      <td>0.132948</td>\n",
       "      <td>-999.0</td>\n",
       "    </tr>\n",
       "    <tr>\n",
       "      <th>4</th>\n",
       "      <td>0.999813</td>\n",
       "      <td>20.450735</td>\n",
       "      <td>215.545448</td>\n",
       "      <td>30.056762</td>\n",
       "      <td>19.368765</td>\n",
       "      <td>0.164716</td>\n",
       "      <td>3.470039</td>\n",
       "      <td>1.880000</td>\n",
       "      <td>0.012167</td>\n",
       "      <td>0.459</td>\n",
       "      <td>...</td>\n",
       "      <td>0.004167</td>\n",
       "      <td>8.807810</td>\n",
       "      <td>965.0</td>\n",
       "      <td>1956.0</td>\n",
       "      <td>11.635296</td>\n",
       "      <td>7.0</td>\n",
       "      <td>0.104410</td>\n",
       "      <td>0.000015</td>\n",
       "      <td>0.317949</td>\n",
       "      <td>-999.0</td>\n",
       "    </tr>\n",
       "    <tr>\n",
       "      <th>5</th>\n",
       "      <td>0.992333</td>\n",
       "      <td>20.357897</td>\n",
       "      <td>215.545501</td>\n",
       "      <td>30.056807</td>\n",
       "      <td>19.169968</td>\n",
       "      <td>0.120456</td>\n",
       "      <td>8.718287</td>\n",
       "      <td>1.176057</td>\n",
       "      <td>4.258265</td>\n",
       "      <td>0.694</td>\n",
       "      <td>...</td>\n",
       "      <td>0.004167</td>\n",
       "      <td>9.025195</td>\n",
       "      <td>881.0</td>\n",
       "      <td>1791.0</td>\n",
       "      <td>8.490078</td>\n",
       "      <td>7.0</td>\n",
       "      <td>0.186078</td>\n",
       "      <td>0.000028</td>\n",
       "      <td>0.086825</td>\n",
       "      <td>-999.0</td>\n",
       "    </tr>\n",
       "    <tr>\n",
       "      <th>6</th>\n",
       "      <td>0.999946</td>\n",
       "      <td>19.422346</td>\n",
       "      <td>10.732041</td>\n",
       "      <td>43.098274</td>\n",
       "      <td>17.987194</td>\n",
       "      <td>0.094823</td>\n",
       "      <td>3.697674</td>\n",
       "      <td>1.370723</td>\n",
       "      <td>-0.168426</td>\n",
       "      <td>1.296</td>\n",
       "      <td>...</td>\n",
       "      <td>0.986500</td>\n",
       "      <td>10.467785</td>\n",
       "      <td>668.0</td>\n",
       "      <td>1112.0</td>\n",
       "      <td>8.429641</td>\n",
       "      <td>16.0</td>\n",
       "      <td>-0.013026</td>\n",
       "      <td>0.000024</td>\n",
       "      <td>0.505201</td>\n",
       "      <td>-999.0</td>\n",
       "    </tr>\n",
       "    <tr>\n",
       "      <th>7</th>\n",
       "      <td>0.992826</td>\n",
       "      <td>21.232424</td>\n",
       "      <td>10.732041</td>\n",
       "      <td>43.098349</td>\n",
       "      <td>18.252439</td>\n",
       "      <td>0.045721</td>\n",
       "      <td>49.119545</td>\n",
       "      <td>3.410000</td>\n",
       "      <td>-7.260237</td>\n",
       "      <td>0.410</td>\n",
       "      <td>...</td>\n",
       "      <td>0.986500</td>\n",
       "      <td>10.607390</td>\n",
       "      <td>707.0</td>\n",
       "      <td>1181.0</td>\n",
       "      <td>13.302192</td>\n",
       "      <td>15.0</td>\n",
       "      <td>-0.038162</td>\n",
       "      <td>0.000004</td>\n",
       "      <td>0.244113</td>\n",
       "      <td>-999.0</td>\n",
       "    </tr>\n",
       "    <tr>\n",
       "      <th>8</th>\n",
       "      <td>0.999334</td>\n",
       "      <td>20.710741</td>\n",
       "      <td>10.732035</td>\n",
       "      <td>43.098405</td>\n",
       "      <td>18.125805</td>\n",
       "      <td>0.110031</td>\n",
       "      <td>18.667473</td>\n",
       "      <td>2.800000</td>\n",
       "      <td>0.011822</td>\n",
       "      <td>0.507</td>\n",
       "      <td>...</td>\n",
       "      <td>0.986500</td>\n",
       "      <td>10.724013</td>\n",
       "      <td>250.0</td>\n",
       "      <td>527.0</td>\n",
       "      <td>15.774800</td>\n",
       "      <td>15.0</td>\n",
       "      <td>0.086108</td>\n",
       "      <td>0.000003</td>\n",
       "      <td>0.113847</td>\n",
       "      <td>-999.0</td>\n",
       "    </tr>\n",
       "    <tr>\n",
       "      <th>9</th>\n",
       "      <td>0.999970</td>\n",
       "      <td>20.187872</td>\n",
       "      <td>221.046557</td>\n",
       "      <td>51.278432</td>\n",
       "      <td>19.621469</td>\n",
       "      <td>0.173033</td>\n",
       "      <td>1.983008</td>\n",
       "      <td>1.444748</td>\n",
       "      <td>-0.084811</td>\n",
       "      <td>0.454</td>\n",
       "      <td>...</td>\n",
       "      <td>0.946792</td>\n",
       "      <td>17.504427</td>\n",
       "      <td>1823.0</td>\n",
       "      <td>3420.0</td>\n",
       "      <td>5.932185</td>\n",
       "      <td>5.0</td>\n",
       "      <td>-0.079316</td>\n",
       "      <td>0.000027</td>\n",
       "      <td>1.052316</td>\n",
       "      <td>-999.0</td>\n",
       "    </tr>\n",
       "  </tbody>\n",
       "</table>\n",
       "<p>10 rows × 25 columns</p>\n",
       "</div>"
      ],
      "text/plain": [
       "        drb  diffmaglim          ra        dec     magpsf  sigmapsf  \\\n",
       "0  0.999961   20.573124  215.887714  40.188635  20.122263  0.187672   \n",
       "1  0.991094   20.497231  215.888024  40.188552  20.180290  0.213557   \n",
       "2  0.999996   20.812113  215.887844  40.188619  19.646261  0.114800   \n",
       "3  0.999980   20.316908  215.545482  30.056814  18.875511  0.090739   \n",
       "4  0.999813   20.450735  215.545448  30.056762  19.368765  0.164716   \n",
       "5  0.992333   20.357897  215.545501  30.056807  19.169968  0.120456   \n",
       "6  0.999946   19.422346   10.732041  43.098274  17.987194  0.094823   \n",
       "7  0.992826   21.232424   10.732041  43.098349  18.252439  0.045721   \n",
       "8  0.999334   20.710741   10.732035  43.098405  18.125805  0.110031   \n",
       "9  0.999970   20.187872  221.046557  51.278432  19.621469  0.173033   \n",
       "\n",
       "      chipsf      fwhm       sky  chinr  ...  sgscore3  distpsnr3  ndethist  \\\n",
       "0   1.116026  2.770000 -0.110588  0.541  ...  0.799857  26.719685      69.0   \n",
       "1   1.277902  2.240000 -0.327813  0.541  ...  0.009375  26.132204     109.0   \n",
       "2   1.048080  2.010000  0.010978  0.541  ...  0.799857  26.574293      60.0   \n",
       "3   6.044485  2.340000 -0.431299  0.459  ...  0.004167   9.024582    1043.0   \n",
       "4   3.470039  1.880000  0.012167  0.459  ...  0.004167   8.807810     965.0   \n",
       "5   8.718287  1.176057  4.258265  0.694  ...  0.004167   9.025195     881.0   \n",
       "6   3.697674  1.370723 -0.168426  1.296  ...  0.986500  10.467785     668.0   \n",
       "7  49.119545  3.410000 -7.260237  0.410  ...  0.986500  10.607390     707.0   \n",
       "8  18.667473  2.800000  0.011822  0.507  ...  0.986500  10.724013     250.0   \n",
       "9   1.983008  1.444748 -0.084811  0.454  ...  0.946792  17.504427    1823.0   \n",
       "\n",
       "   ncovhist      scorr  nmtchps  clrcoeff  clrcounc  neargaia  neargaiabright  \n",
       "0     699.0  10.027220      4.0 -0.071005  0.000030  0.263039          -999.0  \n",
       "1    1259.0   7.601007      4.0 -0.082270  0.000371  0.680922          -999.0  \n",
       "2     675.0  12.571731      4.0 -0.061227  0.000017  0.135656          -999.0  \n",
       "3    2083.0   8.938406      7.0  0.103461  0.000017  0.132948          -999.0  \n",
       "4    1956.0  11.635296      7.0  0.104410  0.000015  0.317949          -999.0  \n",
       "5    1791.0   8.490078      7.0  0.186078  0.000028  0.086825          -999.0  \n",
       "6    1112.0   8.429641     16.0 -0.013026  0.000024  0.505201          -999.0  \n",
       "7    1181.0  13.302192     15.0 -0.038162  0.000004  0.244113          -999.0  \n",
       "8     527.0  15.774800     15.0  0.086108  0.000003  0.113847          -999.0  \n",
       "9    3420.0   5.932185      5.0 -0.079316  0.000027  1.052316          -999.0  \n",
       "\n",
       "[10 rows x 25 columns]"
      ]
     },
     "execution_count": 7,
     "metadata": {},
     "output_type": "execute_result"
    }
   ],
   "source": [
    "# let's look at the first 1 row of the 25 features, along with their names\n",
    "ACAI_H_FEATURES = ('drb', 'diffmaglim', 'ra', 'dec', 'magpsf', 'sigmapsf', 'chipsf', 'fwhm', 'sky', 'chinr', 'sharpnr', 'sgscore1', 'distpsnr1', 'sgscore2', 'distpsnr2', 'sgscore3', 'distpsnr3', 'ndethist', 'ncovhist', 'scorr', 'nmtchps', 'clrcoeff', 'clrcounc', 'neargaia', 'neargaiabright')\n",
    "\n",
    "# make a quick dataframe of 10 rows\n",
    "pd.DataFrame(features[:10, :25], columns=ACAI_H_FEATURES)"
   ]
  },
  {
   "cell_type": "markdown",
   "metadata": {
    "id": "ygBItMBXTwrF"
   },
   "source": [
    "You'll notice that the features are **not normalized**. This is something we can do before training the model. In this notebook we do not provide you with the normalization code, but we encourage you to try it out on your own. There are many ways to normalize the data, but the most common one is to subtract the mean and divide by the standard deviation of each feature. This is done to ensure that the model trains faster and more efficiently, and that the weights are updated in a way that makes sense for the model.\n",
    "\n",
    "**CAUTION**: Some features can also have NaN values, or -999.0 which means that there are simply no data for that feature. That will show up for any feature related to a spatial crossmatch with another catalog. If there are simply no matches, well the distance to the non-existing crossmatch or some of its features don't exist. That is something you might need to handle here. You could image normalizing everything except these values, and leaving them as these very large negative numbers. This is something you can try out on your own.\n",
    "\n",
    "**For a first pass at training, we'll just use the raw features as they are.**"
   ]
  },
  {
   "cell_type": "markdown",
   "metadata": {
    "id": "_0CiSfCyTwrF"
   },
   "source": [
    "**Now, let's look at the images from the `triplets/` directory:**\n",
    "\n",
    "We'll look at triplets of a transient of the `h` class, but feel free to run the modify the code to look at other classes. Let's start by plotting the data as is, without any of the transformations that make it easier to see the content of an astronomical image. *But first, we need a couple of methods to read the data and plot it.*"
   ]
  },
  {
   "cell_type": "code",
   "execution_count": 8,
   "metadata": {
    "id": "8OC0LxKdTwrF"
   },
   "outputs": [],
   "source": [
    "# this method loads the triplets from disk, given a list of files\n",
    "def load_triplet_from_disk(triplet_files):\n",
    "    triplets = []\n",
    "    for f in triplet_files:\n",
    "        t = np.load(f)\n",
    "        triplets.append(t)\n",
    "    return np.array(triplets)\n",
    "\n",
    "\n",
    "# this method plots the 3 cutouts of an alert without applying any transformation\n",
    "def show_triplet(triplet):\n",
    "    triplet = triplet.transpose(2, 1, 0)\n",
    "    fig, axs = plt.subplots(1, 3, figsize=(12, 4))\n",
    "    for i, ax in enumerate(axs):\n",
    "        ax.imshow(triplet[i])\n",
    "        ax.axis('off')\n",
    "    plt.show()"
   ]
  },
  {
   "cell_type": "code",
   "execution_count": 9,
   "metadata": {
    "colab": {
     "base_uri": "https://localhost:8080/",
     "height": 310
    },
    "id": "HTQ8HnQxTwrF",
    "outputId": "75cc1049-c537-4305-8e96-c74fb8e58882"
   },
   "outputs": [
    {
     "data": {
      "image/png": "[encoded data removed]",
      "text/plain": [
       "<Figure size 1200x400 with 3 Axes>"
      ]
     },
     "metadata": {},
     "output_type": "display_data"
    }
   ],
   "source": [
    "# Let's look at an object with label 'h' (hosted)\n",
    "entry = labels.iloc[135009]\n",
    "objectId, candid, label, triplet = entry.objectId, entry.candid, entry.label, load_triplet_from_disk(triplets[135009:135009+1])[0]\n",
    "show_triplet(triplet)"
   ]
  },
  {
   "cell_type": "markdown",
   "metadata": {
    "id": "N1PPi0z9TwrF"
   },
   "source": [
    "In the triplet above we can see:\n",
    "- the science image (left) - the new image, where we can see a bright source in the center, on top of a wider (not point-like) object right next to it, with a slight offset. Likely a galaxy given its morphology.\n",
    "- the reference image (middle) - the stack of older images, where we can only see the galaxy, but not the bright source. This is how we know that the bright source is new, likely a transient if of astrophysical origin.\n",
    "- the difference image (right) - the subtraction of the science and reference images, where we can see the bright source very clearly, and the galaxy is subtracted out. This is the image from which we extract the photometry and some of the features.\n",
    "\n",
    "**Looking at this triplet is very object that this transient is hosted, but it's a little bit hard for a human to tell these things from the images without applying any transformations.\n",
    "So, let's use `astropy`'s visualization tools to apply some transforms to make it a little bit easier to read the images. Let's write that method first**"
   ]
  },
  {
   "cell_type": "code",
   "execution_count": 10,
   "metadata": {
    "id": "CCbymyjmTwrG"
   },
   "outputs": [],
   "source": [
    "def show_thumbnails(\n",
    "    objectId,\n",
    "    candid,\n",
    "    triplet,\n",
    "    label,\n",
    "):\n",
    "    triplet = triplet.transpose(2, 1, 0)\n",
    "    fig, axs = plt.subplots(1, 3, figsize=(9, 3))\n",
    "    for i, ax in enumerate(axs):\n",
    "        image_data = triplet[i]\n",
    "\n",
    "        # ZTF-specific transformation to get North up and West on the right,\n",
    "        image_data = np.flipud(image_data)\n",
    "\n",
    "        # replace nans with median:\n",
    "        img = np.array(image_data)\n",
    "\n",
    "        # replace dubiously large values\n",
    "        xl = np.greater(np.abs(img), 1e20, where=~np.isnan(img))\n",
    "        if img[xl].any():\n",
    "            img[xl] = np.nan\n",
    "        if np.isnan(img).any():\n",
    "            median = float(np.nanmean(img.flatten()))\n",
    "            img = np.nan_to_num(img, nan=median)\n",
    "\n",
    "        # normalize the image now that we've cleaned it up\n",
    "        norm = ImageNormalize(\n",
    "            img,\n",
    "            stretch=LinearStretch()\n",
    "            if i == 2 # if it's the subtraction image (which is science - reference), we apply a Log stretch instead.\n",
    "            else LogStretch(),\n",
    "        )\n",
    "        img_norm = norm(img)\n",
    "        normalizer = AsymmetricPercentileInterval(\n",
    "            lower_percentile=1, upper_percentile=100\n",
    "        )\n",
    "        vmin, vmax = normalizer.get_limits(img_norm)\n",
    "        # plot the image, with a bone colormap (nice blue-ish + white colors, easy on the eyes)\n",
    "        ax.imshow(img_norm, cmap=\"bone\", origin=\"lower\", vmin=vmin, vmax=vmax)\n",
    "        ax.set_axis_off()\n",
    "\n",
    "    # Add the label to the title\n",
    "    title = f\"{objectId} {candid} {label}\"\n",
    "    fig.suptitle(title)\n",
    "    plt.tight_layout()\n",
    "    plt.show()"
   ]
  },
  {
   "cell_type": "code",
   "execution_count": 11,
   "metadata": {
    "colab": {
     "base_uri": "https://localhost:8080/",
     "height": 316
    },
    "id": "zmbbupDOTwrG",
    "outputId": "3ff3628e-b215-4c8e-a0f2-5d6764fcd45d"
   },
   "outputs": [
    {
     "data": {
      "image/png": "[encoded data removed]",
      "text/plain": [
       "<Figure size 900x300 with 3 Axes>"
      ]
     },
     "metadata": {},
     "output_type": "display_data"
    }
   ],
   "source": [
    "# now we run it on the same object\n",
    "show_thumbnails(objectId, candid, triplet, label)"
   ]
  },
  {
   "cell_type": "markdown",
   "metadata": {
    "id": "VSmktMuwTwrG"
   },
   "source": [
    "The host galaxy's morphology definitely more obvious now, though we can see a lot more noise after the normalization + transformation. This transformation is the same we use to show ZTF alerts to astronomers on platforms like [SkyPortal](https://arxiv.org/abs/2305.00108). However as mentioned earlier, the model doesn't need this transformation to work, it can work with the raw data as well.\n",
    "\n",
    "**Before we move on to building the model, let's look at a quick example of bogus object.**"
   ]
  },
  {
   "cell_type": "code",
   "execution_count": 12,
   "metadata": {
    "colab": {
     "base_uri": "https://localhost:8080/",
     "height": 316
    },
    "id": "DhGVfaQUTwrG",
    "outputId": "ed73b710-2e57-444e-dc47-815dd07e31c2"
   },
   "outputs": [
    {
     "data": {
      "image/png": "[encoded data removed]",
      "text/plain": [
       "<Figure size 900x300 with 3 Axes>"
      ]
     },
     "metadata": {},
     "output_type": "display_data"
    }
   ],
   "source": [
    "entry = labels.iloc[58017]\n",
    "objectId, candid, label, triplet = entry.objectId, entry.candid, entry.label, load_triplet_from_disk(triplets[58017:58017+1])[0]\n",
    "show_thumbnails(objectId, candid, triplet, label)"
   ]
  },
  {
   "cell_type": "markdown",
   "metadata": {
    "id": "zobGGD4HTwrG"
   },
   "source": [
    "This one is a little bit of an extreme example, but it's a good one to show what a bogus alert can look like. Even if the subtraction algorithm (ZOGY) is smart, it can be tricked by some things, like cosmic rays, or other artifacts.\n",
    "\n",
    "Here for example, ZTF masked a very very bright star so we can still extract data from the rest of the image (keep in mind that these cutouts are just a 63x63 image extracted at the position of whatever we detect, but the ZTF images are much much larger), however this still results in a bad subtraction, where we can see that there is no transient whatsoever, but just the scattered light from the masked star. We definitely want to avoid looking at these, which is why we developed models like `acai_b` or `drb` to filter them out systematically."
   ]
  },
  {
   "cell_type": "markdown",
   "metadata": {
    "id": "1c19FcSGTwrG"
   },
   "source": [
    "---\n",
    "## Model\n",
    "\n",
    "Now that we have a good understanding of the data, let's move on to building a model that can take it as an input and output a prediction. The model will be a combination of a Convolutional Neural Network (CNN) and a Multi-Layer Perceptron (MLP), which will take the image and the metadata features as inputs, respectively.\n",
    "\n",
    "What are our requirements:\n",
    "- We need an image input, made of 3 channels (science, reference, difference, you can compare it to how we could feed it an RGB image, but here we have 3 different images instead).\n",
    "- We need a metadata input, made of 25 numerical features.\n",
    "- We need one output, from 0 to 1, where 1 means that the alert is of the positive class, e.g. with `acai_h` (hosted), 1 means that the alert is hosted, and 0 means that it is not.\n",
    "\n",
    "**In this notebook, we'll focus on predicting the `h` class, which means that the alert has a host galaxy.**"
   ]
  },
  {
   "cell_type": "markdown",
   "metadata": {
    "id": "WuIg9FNaTwrG"
   },
   "source": [
    "Let's think about the Convolutional Neural Network (CNN) part of the model first, to process the image. We'll use a simple VGG6-like architecture (should be enough given the small size of the images). That branch of the model is essentially the exact same as the `BRAAI` (drb, real/bogus) model, so it looks like:\n",
    "\n",
    "<img src=\"https://raw.githubusercontent.com/Theodlz/bts-ml-ztf-summer-school/main/braai_architecture.png\" style=\"height: 400px\" />"
   ]
  },
  {
   "cell_type": "markdown",
   "metadata": {
    "id": "H1RNtK6XTwrG"
   },
   "source": [
    "**Exercise 1:**\n",
    "Build the CNN part of the model based on the architecture above. The input shape should be `(63, 63, 3)` and the output shape should be `(1,)`. The model should output a single value between 0 and 1, which will be the model's prediction.\n",
    "\n",
    "*Hint*: You can use the `Conv2D`, `MaxPooling2D`, and `Flatten` layers from `tensorflow.keras.layers`. Don't forget the `Dropout` layers to prevent overfitting."
   ]
  },
  {
   "cell_type": "code",
   "execution_count": 13,
   "metadata": {
    "id": "qAta-wgRTwrG"
   },
   "outputs": [],
   "source": [
    "triplet_input = layers.Input(shape=(63,63,3), name='triplet')\n",
    "\n",
    "# insert your code here\n",
    "\n",
    "# first conv block\n",
    "x_conv = layers.Conv2D(16, (3,3), activation='relu', padding='same', name='conv2d_1_1')(triplet_input)\n",
    "x_conv = layers.Conv2D(16, (3,3), activation='relu', padding='same', name='conv2d_1_2')(x_conv)\n",
    "x_conv = layers.MaxPooling2D(pool_size=(2,2), strides=2, name='maxpool_1')(x_conv)\n",
    "x_conv = layers.Dropout(0.25, name='dropout_1')(x_conv)\n",
    "\n",
    "# second conv block\n",
    "x_conv = layers.Conv2D(32, (3,3), activation='relu', padding='same', name='conv2d_2_1')(x_conv)\n",
    "x_conv = layers.Conv2D(32, (3,3), activation='relu', padding='same', name='conv2d_2_2')(x_conv)\n",
    "x_conv = layers.MaxPooling2D(pool_size=(2,2), strides=4, name='maxpool_2')(x_conv)\n",
    "x_conv = layers.Dropout(0.25, name='dropout_2')(x_conv)\n",
    "\n",
    "# we flatten the output\n",
    "x_conv = layers.Flatten()(x_conv)\n",
    "x_conv = layers.Dense(1, activation='relu', name='fc_first')(x_conv)\n",
    "output = layers.Dense(1, activation='sigmoid', name='fc_out')(x_conv)\n",
    "\n",
    "cnn_model = Model(inputs=[triplet_input], outputs=output)"
   ]
  },
  {
   "cell_type": "code",
   "execution_count": 14,
   "metadata": {
    "colab": {
     "base_uri": "https://localhost:8080/"
    },
    "id": "tjjz1MWiTwrG",
    "outputId": "4e3e1939-4e8c-465d-ac51-e60c4a9f2281"
   },
   "outputs": [
    {
     "data": {
      "text/plain": [
       "<tf.Tensor: shape=(1, 1), dtype=float32, numpy=array([[0.49972075]], dtype=float32)>"
      ]
     },
     "execution_count": 14,
     "metadata": {},
     "output_type": "execute_result"
    }
   ],
   "source": [
    "# next we just test it on a random input to make sure it works\n",
    "# essentially we just want to make sure that the model can run on a valid input\n",
    "fake_input = np.random.rand(1, 63, 63, 3)\n",
    "cnn_model(fake_input)"
   ]
  },
  {
   "cell_type": "markdown",
   "metadata": {
    "id": "CRooUkffTwrH"
   },
   "source": [
    "Awesome, now let's focus on the even simpler metadata branch of the model. This branch will be a simple Multi-Layer Perceptron (MLP) with 2 hidden layers. The model will take the 25 metadata features as input and output a single value between 0 and 1, which will be the model's prediction."
   ]
  },
  {
   "cell_type": "markdown",
   "metadata": {
    "id": "y1MqCfHNTwrH"
   },
   "source": [
    "**Exercise 2:**\n",
    "Build the MLP part of the model with the following architecture:\n",
    "- Input layer with 25 units\n",
    "- Dense layer with 64 units and ReLU activation\n",
    "- Dropout layer with 0.25 rate\n",
    "- Dense layer with 32 units and ReLU activation\n",
    "- Dropout layer with 0.25 rate\n",
    "- Output layer with 1 unit and sigmoid activation\n",
    "\n",
    "*Hint*: You can use the `Dense` and `Dropout` layers from `tensorflow.keras.layers`."
   ]
  },
  {
   "cell_type": "code",
   "execution_count": 15,
   "metadata": {
    "id": "7PA_CrbRTwrH"
   },
   "outputs": [],
   "source": [
    "metadata_input = layers.Input(shape=(25,), name='metadata')\n",
    "\n",
    "# insert your code here\n",
    "x_metadata = layers.Dense(64, activation='relu', name='dense1')(metadata_input)\n",
    "x_metadata = layers.Dropout(0.25, name='dropout1')(x_metadata)\n",
    "x_metadata = layers.Dense(32, activation='relu', name='dense2')(x_metadata)\n",
    "x_metadata = layers.Dropout(0.25, name='dropout2')(x_metadata)\n",
    "\n",
    "output = layers.Dense(1, activation='sigmoid', name='fc_out')(x_metadata)\n",
    "\n",
    "mlp_model = Model(inputs=metadata_input, outputs=output)"
   ]
  },
  {
   "cell_type": "code",
   "execution_count": 16,
   "metadata": {
    "colab": {
     "base_uri": "https://localhost:8080/"
    },
    "id": "6mc5UDsDTwrH",
    "outputId": "104df0dd-b670-496f-c282-2ebd740d307e"
   },
   "outputs": [
    {
     "data": {
      "text/plain": [
       "<tf.Tensor: shape=(1, 1), dtype=float32, numpy=array([[0.4482818]], dtype=float32)>"
      ]
     },
     "execution_count": 16,
     "metadata": {},
     "output_type": "execute_result"
    }
   ],
   "source": [
    "# next we just test it on a random input to make sure it works\n",
    "# essentially we just want to make sure that the model can run on a valid input\n",
    "fake_input = np.random.rand(1, 25)\n",
    "mlp_model(fake_input)"
   ]
  },
  {
   "cell_type": "markdown",
   "metadata": {
    "id": "_7zwkhsoTwrH"
   },
   "source": [
    "Amazing!!! **Now, let's build the multi-modal model that combines the CNN and MLP branches.**\n",
    "\n",
    "It's almost as simple as adding the two branches together. The only thing we need to do is to concatenate the outputs of the two branches before passing them to the output layer.\n",
    "**However, a few minor edits are needed, as well as figuring out when to concatenate the two branches.** Indeed, we do not want each branch to output 1 value that we concatenate, but rather the two branches to merge at an earlier stage."
   ]
  },
  {
   "cell_type": "markdown",
   "metadata": {
    "id": "XE0DahObmNRd"
   },
   "source": [
    "**Exercise 3:**\n",
    "Build the multi-modal model that combines the CNN and MLP branches. The model should output a single value between 0 and 1, which will be the model's prediction. For that, yoiu'll need to:\n",
    "- Copy the CNN model, removing anything after the Flatten layer.\n",
    "- Copy the MLP model, removing anything after the last Dropout layer.\n",
    "- Use `Concatenate` layer from `tensorflow.keras.layers` to merge the two branches.\n",
    "- Add a Dense layer with 16 units and ReLU activation.\n",
    "- Add a final Dense/Output layer with 1 unit and sigmoid activation."
   ]
  },
  {
   "cell_type": "code",
   "execution_count": 22,
   "metadata": {
    "id": "QIgsA4pCTwrH"
   },
   "outputs": [],
   "source": [
    "# first we prepare the input layers\n",
    "triplet_input = layers.Input(shape=(63,63,3), name='triplet')\n",
    "meta_input = layers.Input(shape=(25,), name='meta')\n",
    "\n",
    "# # Build the CNN branch\n",
    "# first conv block\n",
    "x_conv = layers.Conv2D(16, (3,3), activation='relu', padding='same', name='conv2d_1_1')(triplet_input)\n",
    "x_conv = layers.Conv2D(16, (3,3), activation='relu', padding='same', name='conv2d_1_2')(x_conv)\n",
    "x_conv = layers.MaxPooling2D(pool_size=(2,2), strides=2, name='maxpool_1')(x_conv)\n",
    "x_conv = layers.Dropout(0.25, name='dropout_1')(x_conv)\n",
    "\n",
    "# second conv block\n",
    "x_conv = layers.Conv2D(32, (3,3), activation='relu', padding='same', name='conv2d_2_1')(x_conv)\n",
    "x_conv = layers.Conv2D(32, (3,3), activation='relu', padding='same', name='conv2d_2_2')(x_conv)\n",
    "x_conv = layers.MaxPooling2D(pool_size=(2,2), strides=4, name='maxpool_2')(x_conv)\n",
    "x_conv = layers.Dropout(0.25, name='dropout_2')(x_conv)\n",
    "\n",
    "# we flatten the output\n",
    "x_conv = layers.Flatten()(x_conv)\n",
    "x_conv = layers.Dense(1, activation='relu', name='fc_first')(x_conv)\n",
    "# output = layers.Dense(1, activation='sigmoid', name='fc_out')(x_conv)\n",
    "\n",
    "# # Build the MLP branch\n",
    "# insert your code here\n",
    "x_metadata = layers.Dense(64, activation='relu', name='dense1')(meta_input)\n",
    "x_metadata = layers.Dropout(0.25, name='dropout1')(x_metadata)\n",
    "x_metadata = layers.Dense(32, activation='relu', name='dense2')(x_metadata)\n",
    "x_metadata = layers.Dropout(0.25, name='dropout2')(x_metadata)\n",
    "\n",
    "# output = layers.Dense(1, activation='sigmoid', name='fc_out')(x_metadata)\n",
    "\n",
    "# # Combine the two branches and add the rest of the model before the output\n",
    "x = layers.Concatenate()([x_conv, x_metadata])\n",
    "\n",
    "output = layers.Dense(1, activation='sigmoid', name='fc_out')(x)\n",
    "\n",
    "model = Model(inputs=[triplet_input, meta_input], outputs=output, name=\"acai\")"
   ]
  },
  {
   "cell_type": "code",
   "execution_count": 23,
   "metadata": {
    "colab": {
     "base_uri": "https://localhost:8080/"
    },
    "id": "JQNGt--fTwrH",
    "outputId": "39deddbb-8f62-42fd-8d45-36f011c64168"
   },
   "outputs": [
    {
     "name": "stdout",
     "output_type": "stream",
     "text": [
      "\u001b[1m1/1\u001b[0m \u001b[32m━━━━━━━━━━━━━━━━━━━━\u001b[0m\u001b[37m\u001b[0m \u001b[1m0s\u001b[0m 109ms/step\n"
     ]
    },
    {
     "data": {
      "text/plain": [
       "array([[0.5]], dtype=float32)"
      ]
     },
     "execution_count": 23,
     "metadata": {},
     "output_type": "execute_result"
    }
   ],
   "source": [
    "# next we just test it on a random input to make sure it works\n",
    "# essentially we just want to make sure that the model can run on a valid input\n",
    "fake_triplet = np.zeros((1, 63, 63, 3))\n",
    "fake_meta = np.zeros((1, 25))\n",
    "\n",
    "model.predict([fake_triplet, fake_meta])"
   ]
  },
  {
   "cell_type": "markdown",
   "metadata": {
    "id": "i3Vp4WXQTwrM"
   },
   "source": [
    "**Exercise 4:**\n",
    "- Write all of this up in a method called `build_model` that takes a config object that will allow you to change things like the inputs shape, dropout rate, ... easily.\n",
    "- The method should return the model **compiled** with the `adam` optimizer and the `binary_crossentropy` loss function."
   ]
  },
  {
   "cell_type": "markdown",
   "metadata": {
    "id": "yd4NlEsBTwrM"
   },
   "source": [
    "*But first here is the config*"
   ]
  },
  {
   "cell_type": "code",
   "execution_count": 26,
   "metadata": {
    "id": "GWzS8OYSTwrM"
   },
   "outputs": [],
   "source": [
    "config = {\n",
    "    'triplet_input_shape': (63, 63, 3),\n",
    "    'metadata_input_shape': (25,),\n",
    "    'batch_size': 32,\n",
    "    'random_seed': 42,\n",
    "    'epochs': 5,\n",
    "    'optimizer': 'adam',\n",
    "    'loss': 'binary_crossentropy',\n",
    "    'metrics': ['accuracy'],\n",
    "    'learning_rate': 0.001,\n",
    "    'beta_1': 0.9,\n",
    "    'beta_2': 0.999,\n",
    "    'LR_plateau_patience': 3,\n",
    "    'reduce_LR_factor': 0.1,\n",
    "    'reduce_LR_minLR': 0.00001,\n",
    "    'early_stopping_patience': 5,\n",
    "    'dropout_rate_1': 0.2,\n",
    "    'dropout_rate_2': 0.2,\n",
    "    'dropout_rate_3': 0.2,\n",
    "}"
   ]
  },
  {
   "cell_type": "code",
   "execution_count": 27,
   "metadata": {
    "id": "UVt4Q7M-TwrM"
   },
   "outputs": [],
   "source": [
    "#CAUTION: to remove before Friday\n",
    "def build_model(config):\n",
    "    triplet_input = layers.Input(shape=config['triplet_input_shape'], name='triplet')\n",
    "    metadata_input = layers.Input(shape=config['metadata_input_shape'], name='metadata')\n",
    "\n",
    "    # add your code here\n",
    "    # # Build the CNN branch\n",
    "    # first conv block\n",
    "    x_conv = layers.Conv2D(16, (3,3), activation='relu', padding='same', name='conv2d_1_1')(triplet_input)\n",
    "    x_conv = layers.Conv2D(16, (3,3), activation='relu', padding='same', name='conv2d_1_2')(x_conv)\n",
    "    x_conv = layers.MaxPooling2D(pool_size=(2,2), strides=2, name='maxpool_1')(x_conv)\n",
    "    x_conv = layers.Dropout(config['dropout_rate_1'], name='dropout_1')(x_conv)\n",
    "    \n",
    "    # second conv block\n",
    "    x_conv = layers.Conv2D(32, (3,3), activation='relu', padding='same', name='conv2d_2_1')(x_conv)\n",
    "    x_conv = layers.Conv2D(32, (3,3), activation='relu', padding='same', name='conv2d_2_2')(x_conv)\n",
    "    x_conv = layers.MaxPooling2D(pool_size=(2,2), strides=4, name='maxpool_2')(x_conv)\n",
    "    x_conv = layers.Dropout(config['dropout_rate_2'], name='dropout_2')(x_conv)\n",
    "    \n",
    "    # we flatten the output\n",
    "    x_conv = layers.Flatten()(x_conv)\n",
    "    x_conv = layers.Dense(1, activation='relu', name='fc_first')(x_conv)\n",
    "    # output = layers.Dense(1, activation='sigmoid', name='fc_out')(x_conv)\n",
    "    \n",
    "    # # Build the MLP branch\n",
    "    # insert your code here\n",
    "    x_metadata = layers.Dense(64, activation='relu', name='dense1')(meta_input)\n",
    "    x_metadata = layers.Dropout(config['dropout_rate_3'], name='dropout1')(x_metadata)\n",
    "    x_metadata = layers.Dense(32, activation='relu', name='dense2')(x_metadata)\n",
    "    x_metadata = layers.Dropout(config['dropout_rate_3'], name='dropout2')(x_metadata)\n",
    "    \n",
    "    # output = layers.Dense(1, activation='sigmoid', name='fc_out')(x_metadata)\n",
    "    \n",
    "    # # Combine the two branches and add the rest of the model before the output\n",
    "    x = layers.Concatenate()([x_conv, x_metadata])\n",
    "\n",
    "    output = layers.Dense(1, activation='sigmoid', name='fc_out')(x)\n",
    "\n",
    "    model = Model(inputs=[triplet_input, meta_input], outputs=output, name=\"acai\")\n",
    "\n",
    "    optimizer = optimizers.Adam(\n",
    "        learning_rate=config['learning_rate'],\n",
    "        beta_1=config['beta_1'],\n",
    "        beta_2=config['beta_2']\n",
    "    )\n",
    "    model.compile(optimizer=optimizer, loss=config['loss'], metrics=config['metrics'])\n",
    "\n",
    "    return model"
   ]
  },
  {
   "cell_type": "code",
   "execution_count": 28,
   "metadata": {
    "colab": {
     "base_uri": "https://localhost:8080/",
     "height": 746
    },
    "id": "-kr-FujKTwrM",
    "outputId": "652a447a-8605-4bf0-fcad-dd432bd5660b"
   },
   "outputs": [
    {
     "name": "stdout",
     "output_type": "stream",
     "text": [
      "\u001b[1m1/1\u001b[0m \u001b[32m━━━━━━━━━━━━━━━━━━━━\u001b[0m\u001b[37m\u001b[0m \u001b[1m0s\u001b[0m 93ms/step\n",
      "[[0.5]]\n"
     ]
    },
    {
     "data": {
      "text/html": [
       "<pre style=\"white-space:pre;overflow-x:auto;line-height:normal;font-family:Menlo,'DejaVu Sans Mono',consolas,'Courier New',monospace\"><span style=\"font-weight: bold\">Model: \"acai\"</span>\n",
       "</pre>\n"
      ],
      "text/plain": [
       "\u001b[1mModel: \"acai\"\u001b[0m\n"
      ]
     },
     "metadata": {},
     "output_type": "display_data"
    },
    {
     "data": {
      "text/html": [
       "<pre style=\"white-space:pre;overflow-x:auto;line-height:normal;font-family:Menlo,'DejaVu Sans Mono',consolas,'Courier New',monospace\">┏━━━━━━━━━━━━━━━━━━━━━┳━━━━━━━━━━━━━━━━━━━┳━━━━━━━━━━━━┳━━━━━━━━━━━━━━━━━━━┓\n",
       "┃<span style=\"font-weight: bold\"> Layer (type)        </span>┃<span style=\"font-weight: bold\"> Output Shape      </span>┃<span style=\"font-weight: bold\">    Param # </span>┃<span style=\"font-weight: bold\"> Connected to      </span>┃\n",
       "┡━━━━━━━━━━━━━━━━━━━━━╇━━━━━━━━━━━━━━━━━━━╇━━━━━━━━━━━━╇━━━━━━━━━━━━━━━━━━━┩\n",
       "│ triplet             │ (<span style=\"color: #00d7ff; text-decoration-color: #00d7ff\">None</span>, <span style=\"color: #00af00; text-decoration-color: #00af00\">63</span>, <span style=\"color: #00af00; text-decoration-color: #00af00\">63</span>, <span style=\"color: #00af00; text-decoration-color: #00af00\">3</span>) │          <span style=\"color: #00af00; text-decoration-color: #00af00\">0</span> │ -                 │\n",
       "│ (<span style=\"color: #0087ff; text-decoration-color: #0087ff\">InputLayer</span>)        │                   │            │                   │\n",
       "├─────────────────────┼───────────────────┼────────────┼───────────────────┤\n",
       "│ conv2d_1_1 (<span style=\"color: #0087ff; text-decoration-color: #0087ff\">Conv2D</span>) │ (<span style=\"color: #00d7ff; text-decoration-color: #00d7ff\">None</span>, <span style=\"color: #00af00; text-decoration-color: #00af00\">63</span>, <span style=\"color: #00af00; text-decoration-color: #00af00\">63</span>,    │        <span style=\"color: #00af00; text-decoration-color: #00af00\">448</span> │ triplet[<span style=\"color: #00af00; text-decoration-color: #00af00\">0</span>][<span style=\"color: #00af00; text-decoration-color: #00af00\">0</span>]     │\n",
       "│                     │ <span style=\"color: #00af00; text-decoration-color: #00af00\">16</span>)               │            │                   │\n",
       "├─────────────────────┼───────────────────┼────────────┼───────────────────┤\n",
       "│ conv2d_1_2 (<span style=\"color: #0087ff; text-decoration-color: #0087ff\">Conv2D</span>) │ (<span style=\"color: #00d7ff; text-decoration-color: #00d7ff\">None</span>, <span style=\"color: #00af00; text-decoration-color: #00af00\">63</span>, <span style=\"color: #00af00; text-decoration-color: #00af00\">63</span>,    │      <span style=\"color: #00af00; text-decoration-color: #00af00\">2,320</span> │ conv2d_1_1[<span style=\"color: #00af00; text-decoration-color: #00af00\">0</span>][<span style=\"color: #00af00; text-decoration-color: #00af00\">0</span>]  │\n",
       "│                     │ <span style=\"color: #00af00; text-decoration-color: #00af00\">16</span>)               │            │                   │\n",
       "├─────────────────────┼───────────────────┼────────────┼───────────────────┤\n",
       "│ maxpool_1           │ (<span style=\"color: #00d7ff; text-decoration-color: #00d7ff\">None</span>, <span style=\"color: #00af00; text-decoration-color: #00af00\">31</span>, <span style=\"color: #00af00; text-decoration-color: #00af00\">31</span>,    │          <span style=\"color: #00af00; text-decoration-color: #00af00\">0</span> │ conv2d_1_2[<span style=\"color: #00af00; text-decoration-color: #00af00\">0</span>][<span style=\"color: #00af00; text-decoration-color: #00af00\">0</span>]  │\n",
       "│ (<span style=\"color: #0087ff; text-decoration-color: #0087ff\">MaxPooling2D</span>)      │ <span style=\"color: #00af00; text-decoration-color: #00af00\">16</span>)               │            │                   │\n",
       "├─────────────────────┼───────────────────┼────────────┼───────────────────┤\n",
       "│ dropout_1 (<span style=\"color: #0087ff; text-decoration-color: #0087ff\">Dropout</span>) │ (<span style=\"color: #00d7ff; text-decoration-color: #00d7ff\">None</span>, <span style=\"color: #00af00; text-decoration-color: #00af00\">31</span>, <span style=\"color: #00af00; text-decoration-color: #00af00\">31</span>,    │          <span style=\"color: #00af00; text-decoration-color: #00af00\">0</span> │ maxpool_1[<span style=\"color: #00af00; text-decoration-color: #00af00\">0</span>][<span style=\"color: #00af00; text-decoration-color: #00af00\">0</span>]   │\n",
       "│                     │ <span style=\"color: #00af00; text-decoration-color: #00af00\">16</span>)               │            │                   │\n",
       "├─────────────────────┼───────────────────┼────────────┼───────────────────┤\n",
       "│ conv2d_2_1 (<span style=\"color: #0087ff; text-decoration-color: #0087ff\">Conv2D</span>) │ (<span style=\"color: #00d7ff; text-decoration-color: #00d7ff\">None</span>, <span style=\"color: #00af00; text-decoration-color: #00af00\">31</span>, <span style=\"color: #00af00; text-decoration-color: #00af00\">31</span>,    │      <span style=\"color: #00af00; text-decoration-color: #00af00\">4,640</span> │ dropout_1[<span style=\"color: #00af00; text-decoration-color: #00af00\">0</span>][<span style=\"color: #00af00; text-decoration-color: #00af00\">0</span>]   │\n",
       "│                     │ <span style=\"color: #00af00; text-decoration-color: #00af00\">32</span>)               │            │                   │\n",
       "├─────────────────────┼───────────────────┼────────────┼───────────────────┤\n",
       "│ conv2d_2_2 (<span style=\"color: #0087ff; text-decoration-color: #0087ff\">Conv2D</span>) │ (<span style=\"color: #00d7ff; text-decoration-color: #00d7ff\">None</span>, <span style=\"color: #00af00; text-decoration-color: #00af00\">31</span>, <span style=\"color: #00af00; text-decoration-color: #00af00\">31</span>,    │      <span style=\"color: #00af00; text-decoration-color: #00af00\">9,248</span> │ conv2d_2_1[<span style=\"color: #00af00; text-decoration-color: #00af00\">0</span>][<span style=\"color: #00af00; text-decoration-color: #00af00\">0</span>]  │\n",
       "│                     │ <span style=\"color: #00af00; text-decoration-color: #00af00\">32</span>)               │            │                   │\n",
       "├─────────────────────┼───────────────────┼────────────┼───────────────────┤\n",
       "│ meta (<span style=\"color: #0087ff; text-decoration-color: #0087ff\">InputLayer</span>)   │ (<span style=\"color: #00d7ff; text-decoration-color: #00d7ff\">None</span>, <span style=\"color: #00af00; text-decoration-color: #00af00\">25</span>)        │          <span style=\"color: #00af00; text-decoration-color: #00af00\">0</span> │ -                 │\n",
       "├─────────────────────┼───────────────────┼────────────┼───────────────────┤\n",
       "│ maxpool_2           │ (<span style=\"color: #00d7ff; text-decoration-color: #00d7ff\">None</span>, <span style=\"color: #00af00; text-decoration-color: #00af00\">8</span>, <span style=\"color: #00af00; text-decoration-color: #00af00\">8</span>, <span style=\"color: #00af00; text-decoration-color: #00af00\">32</span>)  │          <span style=\"color: #00af00; text-decoration-color: #00af00\">0</span> │ conv2d_2_2[<span style=\"color: #00af00; text-decoration-color: #00af00\">0</span>][<span style=\"color: #00af00; text-decoration-color: #00af00\">0</span>]  │\n",
       "│ (<span style=\"color: #0087ff; text-decoration-color: #0087ff\">MaxPooling2D</span>)      │                   │            │                   │\n",
       "├─────────────────────┼───────────────────┼────────────┼───────────────────┤\n",
       "│ dense1 (<span style=\"color: #0087ff; text-decoration-color: #0087ff\">Dense</span>)      │ (<span style=\"color: #00d7ff; text-decoration-color: #00d7ff\">None</span>, <span style=\"color: #00af00; text-decoration-color: #00af00\">64</span>)        │      <span style=\"color: #00af00; text-decoration-color: #00af00\">1,664</span> │ meta[<span style=\"color: #00af00; text-decoration-color: #00af00\">0</span>][<span style=\"color: #00af00; text-decoration-color: #00af00\">0</span>]        │\n",
       "├─────────────────────┼───────────────────┼────────────┼───────────────────┤\n",
       "│ dropout_2 (<span style=\"color: #0087ff; text-decoration-color: #0087ff\">Dropout</span>) │ (<span style=\"color: #00d7ff; text-decoration-color: #00d7ff\">None</span>, <span style=\"color: #00af00; text-decoration-color: #00af00\">8</span>, <span style=\"color: #00af00; text-decoration-color: #00af00\">8</span>, <span style=\"color: #00af00; text-decoration-color: #00af00\">32</span>)  │          <span style=\"color: #00af00; text-decoration-color: #00af00\">0</span> │ maxpool_2[<span style=\"color: #00af00; text-decoration-color: #00af00\">0</span>][<span style=\"color: #00af00; text-decoration-color: #00af00\">0</span>]   │\n",
       "├─────────────────────┼───────────────────┼────────────┼───────────────────┤\n",
       "│ dropout1 (<span style=\"color: #0087ff; text-decoration-color: #0087ff\">Dropout</span>)  │ (<span style=\"color: #00d7ff; text-decoration-color: #00d7ff\">None</span>, <span style=\"color: #00af00; text-decoration-color: #00af00\">64</span>)        │          <span style=\"color: #00af00; text-decoration-color: #00af00\">0</span> │ dense1[<span style=\"color: #00af00; text-decoration-color: #00af00\">0</span>][<span style=\"color: #00af00; text-decoration-color: #00af00\">0</span>]      │\n",
       "├─────────────────────┼───────────────────┼────────────┼───────────────────┤\n",
       "│ flatten_4 (<span style=\"color: #0087ff; text-decoration-color: #0087ff\">Flatten</span>) │ (<span style=\"color: #00d7ff; text-decoration-color: #00d7ff\">None</span>, <span style=\"color: #00af00; text-decoration-color: #00af00\">2048</span>)      │          <span style=\"color: #00af00; text-decoration-color: #00af00\">0</span> │ dropout_2[<span style=\"color: #00af00; text-decoration-color: #00af00\">0</span>][<span style=\"color: #00af00; text-decoration-color: #00af00\">0</span>]   │\n",
       "├─────────────────────┼───────────────────┼────────────┼───────────────────┤\n",
       "│ dense2 (<span style=\"color: #0087ff; text-decoration-color: #0087ff\">Dense</span>)      │ (<span style=\"color: #00d7ff; text-decoration-color: #00d7ff\">None</span>, <span style=\"color: #00af00; text-decoration-color: #00af00\">32</span>)        │      <span style=\"color: #00af00; text-decoration-color: #00af00\">2,080</span> │ dropout1[<span style=\"color: #00af00; text-decoration-color: #00af00\">0</span>][<span style=\"color: #00af00; text-decoration-color: #00af00\">0</span>]    │\n",
       "├─────────────────────┼───────────────────┼────────────┼───────────────────┤\n",
       "│ fc_first (<span style=\"color: #0087ff; text-decoration-color: #0087ff\">Dense</span>)    │ (<span style=\"color: #00d7ff; text-decoration-color: #00d7ff\">None</span>, <span style=\"color: #00af00; text-decoration-color: #00af00\">1</span>)         │      <span style=\"color: #00af00; text-decoration-color: #00af00\">2,049</span> │ flatten_4[<span style=\"color: #00af00; text-decoration-color: #00af00\">0</span>][<span style=\"color: #00af00; text-decoration-color: #00af00\">0</span>]   │\n",
       "├─────────────────────┼───────────────────┼────────────┼───────────────────┤\n",
       "│ dropout2 (<span style=\"color: #0087ff; text-decoration-color: #0087ff\">Dropout</span>)  │ (<span style=\"color: #00d7ff; text-decoration-color: #00d7ff\">None</span>, <span style=\"color: #00af00; text-decoration-color: #00af00\">32</span>)        │          <span style=\"color: #00af00; text-decoration-color: #00af00\">0</span> │ dense2[<span style=\"color: #00af00; text-decoration-color: #00af00\">0</span>][<span style=\"color: #00af00; text-decoration-color: #00af00\">0</span>]      │\n",
       "├─────────────────────┼───────────────────┼────────────┼───────────────────┤\n",
       "│ concatenate_3       │ (<span style=\"color: #00d7ff; text-decoration-color: #00d7ff\">None</span>, <span style=\"color: #00af00; text-decoration-color: #00af00\">33</span>)        │          <span style=\"color: #00af00; text-decoration-color: #00af00\">0</span> │ fc_first[<span style=\"color: #00af00; text-decoration-color: #00af00\">0</span>][<span style=\"color: #00af00; text-decoration-color: #00af00\">0</span>],   │\n",
       "│ (<span style=\"color: #0087ff; text-decoration-color: #0087ff\">Concatenate</span>)       │                   │            │ dropout2[<span style=\"color: #00af00; text-decoration-color: #00af00\">0</span>][<span style=\"color: #00af00; text-decoration-color: #00af00\">0</span>]    │\n",
       "├─────────────────────┼───────────────────┼────────────┼───────────────────┤\n",
       "│ fc_out (<span style=\"color: #0087ff; text-decoration-color: #0087ff\">Dense</span>)      │ (<span style=\"color: #00d7ff; text-decoration-color: #00d7ff\">None</span>, <span style=\"color: #00af00; text-decoration-color: #00af00\">1</span>)         │         <span style=\"color: #00af00; text-decoration-color: #00af00\">34</span> │ concatenate_3[<span style=\"color: #00af00; text-decoration-color: #00af00\">0</span>]… │\n",
       "└─────────────────────┴───────────────────┴────────────┴───────────────────┘\n",
       "</pre>\n"
      ],
      "text/plain": [
       "┏━━━━━━━━━━━━━━━━━━━━━┳━━━━━━━━━━━━━━━━━━━┳━━━━━━━━━━━━┳━━━━━━━━━━━━━━━━━━━┓\n",
       "┃\u001b[1m \u001b[0m\u001b[1mLayer (type)       \u001b[0m\u001b[1m \u001b[0m┃\u001b[1m \u001b[0m\u001b[1mOutput Shape     \u001b[0m\u001b[1m \u001b[0m┃\u001b[1m \u001b[0m\u001b[1m   Param #\u001b[0m\u001b[1m \u001b[0m┃\u001b[1m \u001b[0m\u001b[1mConnected to     \u001b[0m\u001b[1m \u001b[0m┃\n",
       "┡━━━━━━━━━━━━━━━━━━━━━╇━━━━━━━━━━━━━━━━━━━╇━━━━━━━━━━━━╇━━━━━━━━━━━━━━━━━━━┩\n",
       "│ triplet             │ (\u001b[38;5;45mNone\u001b[0m, \u001b[38;5;34m63\u001b[0m, \u001b[38;5;34m63\u001b[0m, \u001b[38;5;34m3\u001b[0m) │          \u001b[38;5;34m0\u001b[0m │ -                 │\n",
       "│ (\u001b[38;5;33mInputLayer\u001b[0m)        │                   │            │                   │\n",
       "├─────────────────────┼───────────────────┼────────────┼───────────────────┤\n",
       "│ conv2d_1_1 (\u001b[38;5;33mConv2D\u001b[0m) │ (\u001b[38;5;45mNone\u001b[0m, \u001b[38;5;34m63\u001b[0m, \u001b[38;5;34m63\u001b[0m,    │        \u001b[38;5;34m448\u001b[0m │ triplet[\u001b[38;5;34m0\u001b[0m][\u001b[38;5;34m0\u001b[0m]     │\n",
       "│                     │ \u001b[38;5;34m16\u001b[0m)               │            │                   │\n",
       "├─────────────────────┼───────────────────┼────────────┼───────────────────┤\n",
       "│ conv2d_1_2 (\u001b[38;5;33mConv2D\u001b[0m) │ (\u001b[38;5;45mNone\u001b[0m, \u001b[38;5;34m63\u001b[0m, \u001b[38;5;34m63\u001b[0m,    │      \u001b[38;5;34m2,320\u001b[0m │ conv2d_1_1[\u001b[38;5;34m0\u001b[0m][\u001b[38;5;34m0\u001b[0m]  │\n",
       "│                     │ \u001b[38;5;34m16\u001b[0m)               │            │                   │\n",
       "├─────────────────────┼───────────────────┼────────────┼───────────────────┤\n",
       "│ maxpool_1           │ (\u001b[38;5;45mNone\u001b[0m, \u001b[38;5;34m31\u001b[0m, \u001b[38;5;34m31\u001b[0m,    │          \u001b[38;5;34m0\u001b[0m │ conv2d_1_2[\u001b[38;5;34m0\u001b[0m][\u001b[38;5;34m0\u001b[0m]  │\n",
       "│ (\u001b[38;5;33mMaxPooling2D\u001b[0m)      │ \u001b[38;5;34m16\u001b[0m)               │            │                   │\n",
       "├─────────────────────┼───────────────────┼────────────┼───────────────────┤\n",
       "│ dropout_1 (\u001b[38;5;33mDropout\u001b[0m) │ (\u001b[38;5;45mNone\u001b[0m, \u001b[38;5;34m31\u001b[0m, \u001b[38;5;34m31\u001b[0m,    │          \u001b[38;5;34m0\u001b[0m │ maxpool_1[\u001b[38;5;34m0\u001b[0m][\u001b[38;5;34m0\u001b[0m]   │\n",
       "│                     │ \u001b[38;5;34m16\u001b[0m)               │            │                   │\n",
       "├─────────────────────┼───────────────────┼────────────┼───────────────────┤\n",
       "│ conv2d_2_1 (\u001b[38;5;33mConv2D\u001b[0m) │ (\u001b[38;5;45mNone\u001b[0m, \u001b[38;5;34m31\u001b[0m, \u001b[38;5;34m31\u001b[0m,    │      \u001b[38;5;34m4,640\u001b[0m │ dropout_1[\u001b[38;5;34m0\u001b[0m][\u001b[38;5;34m0\u001b[0m]   │\n",
       "│                     │ \u001b[38;5;34m32\u001b[0m)               │            │                   │\n",
       "├─────────────────────┼───────────────────┼────────────┼───────────────────┤\n",
       "│ conv2d_2_2 (\u001b[38;5;33mConv2D\u001b[0m) │ (\u001b[38;5;45mNone\u001b[0m, \u001b[38;5;34m31\u001b[0m, \u001b[38;5;34m31\u001b[0m,    │      \u001b[38;5;34m9,248\u001b[0m │ conv2d_2_1[\u001b[38;5;34m0\u001b[0m][\u001b[38;5;34m0\u001b[0m]  │\n",
       "│                     │ \u001b[38;5;34m32\u001b[0m)               │            │                   │\n",
       "├─────────────────────┼───────────────────┼────────────┼───────────────────┤\n",
       "│ meta (\u001b[38;5;33mInputLayer\u001b[0m)   │ (\u001b[38;5;45mNone\u001b[0m, \u001b[38;5;34m25\u001b[0m)        │          \u001b[38;5;34m0\u001b[0m │ -                 │\n",
       "├─────────────────────┼───────────────────┼────────────┼───────────────────┤\n",
       "│ maxpool_2           │ (\u001b[38;5;45mNone\u001b[0m, \u001b[38;5;34m8\u001b[0m, \u001b[38;5;34m8\u001b[0m, \u001b[38;5;34m32\u001b[0m)  │          \u001b[38;5;34m0\u001b[0m │ conv2d_2_2[\u001b[38;5;34m0\u001b[0m][\u001b[38;5;34m0\u001b[0m]  │\n",
       "│ (\u001b[38;5;33mMaxPooling2D\u001b[0m)      │                   │            │                   │\n",
       "├─────────────────────┼───────────────────┼────────────┼───────────────────┤\n",
       "│ dense1 (\u001b[38;5;33mDense\u001b[0m)      │ (\u001b[38;5;45mNone\u001b[0m, \u001b[38;5;34m64\u001b[0m)        │      \u001b[38;5;34m1,664\u001b[0m │ meta[\u001b[38;5;34m0\u001b[0m][\u001b[38;5;34m0\u001b[0m]        │\n",
       "├─────────────────────┼───────────────────┼────────────┼───────────────────┤\n",
       "│ dropout_2 (\u001b[38;5;33mDropout\u001b[0m) │ (\u001b[38;5;45mNone\u001b[0m, \u001b[38;5;34m8\u001b[0m, \u001b[38;5;34m8\u001b[0m, \u001b[38;5;34m32\u001b[0m)  │          \u001b[38;5;34m0\u001b[0m │ maxpool_2[\u001b[38;5;34m0\u001b[0m][\u001b[38;5;34m0\u001b[0m]   │\n",
       "├─────────────────────┼───────────────────┼────────────┼───────────────────┤\n",
       "│ dropout1 (\u001b[38;5;33mDropout\u001b[0m)  │ (\u001b[38;5;45mNone\u001b[0m, \u001b[38;5;34m64\u001b[0m)        │          \u001b[38;5;34m0\u001b[0m │ dense1[\u001b[38;5;34m0\u001b[0m][\u001b[38;5;34m0\u001b[0m]      │\n",
       "├─────────────────────┼───────────────────┼────────────┼───────────────────┤\n",
       "│ flatten_4 (\u001b[38;5;33mFlatten\u001b[0m) │ (\u001b[38;5;45mNone\u001b[0m, \u001b[38;5;34m2048\u001b[0m)      │          \u001b[38;5;34m0\u001b[0m │ dropout_2[\u001b[38;5;34m0\u001b[0m][\u001b[38;5;34m0\u001b[0m]   │\n",
       "├─────────────────────┼───────────────────┼────────────┼───────────────────┤\n",
       "│ dense2 (\u001b[38;5;33mDense\u001b[0m)      │ (\u001b[38;5;45mNone\u001b[0m, \u001b[38;5;34m32\u001b[0m)        │      \u001b[38;5;34m2,080\u001b[0m │ dropout1[\u001b[38;5;34m0\u001b[0m][\u001b[38;5;34m0\u001b[0m]    │\n",
       "├─────────────────────┼───────────────────┼────────────┼───────────────────┤\n",
       "│ fc_first (\u001b[38;5;33mDense\u001b[0m)    │ (\u001b[38;5;45mNone\u001b[0m, \u001b[38;5;34m1\u001b[0m)         │      \u001b[38;5;34m2,049\u001b[0m │ flatten_4[\u001b[38;5;34m0\u001b[0m][\u001b[38;5;34m0\u001b[0m]   │\n",
       "├─────────────────────┼───────────────────┼────────────┼───────────────────┤\n",
       "│ dropout2 (\u001b[38;5;33mDropout\u001b[0m)  │ (\u001b[38;5;45mNone\u001b[0m, \u001b[38;5;34m32\u001b[0m)        │          \u001b[38;5;34m0\u001b[0m │ dense2[\u001b[38;5;34m0\u001b[0m][\u001b[38;5;34m0\u001b[0m]      │\n",
       "├─────────────────────┼───────────────────┼────────────┼───────────────────┤\n",
       "│ concatenate_3       │ (\u001b[38;5;45mNone\u001b[0m, \u001b[38;5;34m33\u001b[0m)        │          \u001b[38;5;34m0\u001b[0m │ fc_first[\u001b[38;5;34m0\u001b[0m][\u001b[38;5;34m0\u001b[0m],   │\n",
       "│ (\u001b[38;5;33mConcatenate\u001b[0m)       │                   │            │ dropout2[\u001b[38;5;34m0\u001b[0m][\u001b[38;5;34m0\u001b[0m]    │\n",
       "├─────────────────────┼───────────────────┼────────────┼───────────────────┤\n",
       "│ fc_out (\u001b[38;5;33mDense\u001b[0m)      │ (\u001b[38;5;45mNone\u001b[0m, \u001b[38;5;34m1\u001b[0m)         │         \u001b[38;5;34m34\u001b[0m │ concatenate_3[\u001b[38;5;34m0\u001b[0m]… │\n",
       "└─────────────────────┴───────────────────┴────────────┴───────────────────┘\n"
      ]
     },
     "metadata": {},
     "output_type": "display_data"
    },
    {
     "data": {
      "text/html": [
       "<pre style=\"white-space:pre;overflow-x:auto;line-height:normal;font-family:Menlo,'DejaVu Sans Mono',consolas,'Courier New',monospace\"><span style=\"font-weight: bold\"> Total params: </span><span style=\"color: #00af00; text-decoration-color: #00af00\">22,483</span> (87.82 KB)\n",
       "</pre>\n"
      ],
      "text/plain": [
       "\u001b[1m Total params: \u001b[0m\u001b[38;5;34m22,483\u001b[0m (87.82 KB)\n"
      ]
     },
     "metadata": {},
     "output_type": "display_data"
    },
    {
     "data": {
      "text/html": [
       "<pre style=\"white-space:pre;overflow-x:auto;line-height:normal;font-family:Menlo,'DejaVu Sans Mono',consolas,'Courier New',monospace\"><span style=\"font-weight: bold\"> Trainable params: </span><span style=\"color: #00af00; text-decoration-color: #00af00\">22,483</span> (87.82 KB)\n",
       "</pre>\n"
      ],
      "text/plain": [
       "\u001b[1m Trainable params: \u001b[0m\u001b[38;5;34m22,483\u001b[0m (87.82 KB)\n"
      ]
     },
     "metadata": {},
     "output_type": "display_data"
    },
    {
     "data": {
      "text/html": [
       "<pre style=\"white-space:pre;overflow-x:auto;line-height:normal;font-family:Menlo,'DejaVu Sans Mono',consolas,'Courier New',monospace\"><span style=\"font-weight: bold\"> Non-trainable params: </span><span style=\"color: #00af00; text-decoration-color: #00af00\">0</span> (0.00 B)\n",
       "</pre>\n"
      ],
      "text/plain": [
       "\u001b[1m Non-trainable params: \u001b[0m\u001b[38;5;34m0\u001b[0m (0.00 B)\n"
      ]
     },
     "metadata": {},
     "output_type": "display_data"
    }
   ],
   "source": [
    "# try it out!\n",
    "model = build_model(config)\n",
    "\n",
    "fake_input_triplet = np.zeros((1, 63, 63, 3))\n",
    "fake_input_meta = np.zeros((1, 25))\n",
    "\n",
    "print(model.predict([fake_input_triplet, fake_input_meta]))\n",
    "\n",
    "model.summary()"
   ]
  },
  {
   "cell_type": "markdown",
   "metadata": {
    "id": "wAABxgWuTwrM"
   },
   "source": [
    "Hurrah!!! **Now that we have the model, we need to come up with a way to feed it batches of data for training, validation, and testing.**"
   ]
  },
  {
   "cell_type": "markdown",
   "metadata": {
    "id": "D9JKwRoQTwrN"
   },
   "source": [
    "---\n",
    "## Data Generators\n",
    "\n",
    "We need our model to loop over the data in batches, and feed it to the model for training, validation, and testing. **First, we need to split our data into training, validation, and testing sets.** We'll choose a 80/10/10 split, respectively. However, feel free to change these values to see how the model performs with different splits."
   ]
  },
  {
   "cell_type": "code",
   "execution_count": 29,
   "metadata": {
    "id": "t1fOf_t-TwrN"
   },
   "outputs": [],
   "source": [
    "# split the data in train, validation, and test sets, with 0.8, 0.1, 0.1 proportions\n",
    "total_n_samples = features.shape[0]\n",
    "n_train = int(total_n_samples * 0.8)\n",
    "n_val = int(total_n_samples * 0.1)\n",
    "n_test = total_n_samples - n_train - n_val\n",
    "\n",
    "# we shuffle the data, while making sure that the triplets, features, and labels are shuffled in the same way\n",
    "# if not, we would essentially end up with random labels for the triplets and features\n",
    "\n",
    "# TODO: maybe this part could be an exercise? It's not too hard which is good, but it's also boring.\n",
    "\n",
    "# start with randomizing indices so we can reorder the data in the same way\n",
    "indices = np.arange(total_n_samples)\n",
    "np.random.shuffle(indices)\n",
    "triplets = triplets[indices]\n",
    "features = features[indices]\n",
    "labels = labels.iloc[indices]\n",
    "\n",
    "# Next up, we split the data in valid, test, and train sets\n",
    "triplets_val = triplets[n_train:n_train+n_val]\n",
    "features_val = features[n_train:n_train+n_val]\n",
    "labels_val = labels.iloc[n_train:n_train+n_val]\n",
    "\n",
    "triplets_test = triplets[n_train+n_val:]\n",
    "features_test = features[n_train+n_val:]\n",
    "labels_test = labels.iloc[n_train+n_val:]\n",
    "\n",
    "triplets_train = triplets[:n_train]\n",
    "features_train = features[:n_train]\n",
    "labels_train = labels.iloc[:n_train]"
   ]
  },
  {
   "cell_type": "markdown",
   "metadata": {
    "id": "cbbxTxbYTwrN"
   },
   "source": [
    "Let's take a quick look at the shapes of the features and labels in all 3 sets, to validate that the split was done correctly.\n",
    "Well also take one random training sample and validate that it's the same as the one we saw earlier. That will help avoid any mistakes in the data shuffling or splitting."
   ]
  },
  {
   "cell_type": "code",
   "execution_count": 30,
   "metadata": {
    "colab": {
     "base_uri": "https://localhost:8080/"
    },
    "id": "hT9nw7DtTwrN",
    "outputId": "4fe154f6-b377-4b79-95b5-6294df49a3f1"
   },
   "outputs": [
    {
     "name": "stdout",
     "output_type": "stream",
     "text": [
      "Train: (149055,), (149055, 25), (149055, 3)\n",
      "Validation: (18631,), (18631, 25), (18631, 3)\n",
      "Test: (18633,), (18633, 25), (18633, 3)\n"
     ]
    }
   ],
   "source": [
    "# first print the shapes to make sure everything is correct\n",
    "print(f\"Train: {triplets_train.shape}, {features_train.shape}, {labels_train.shape}\")\n",
    "print(f\"Validation: {triplets_val.shape}, {features_val.shape}, {labels_val.shape}\")\n",
    "print(f\"Test: {triplets_test.shape}, {features_test.shape}, {labels_test.shape}\")"
   ]
  },
  {
   "cell_type": "code",
   "execution_count": 31,
   "metadata": {
    "id": "Vobe2cptTwrN"
   },
   "outputs": [],
   "source": [
    "# Next, grab a random entry in the training labels, get it's corresponding candid, triplet and metadata, and compare it to the original - full - dataset.\n",
    "idx = np.random.randint(0, len(labels_train))\n",
    "entry = labels_train.iloc[idx]\n",
    "candid, label = entry.candid, entry.label\n",
    "train_t, train_m = load_triplet_from_disk(triplets_train[idx:idx+1])[0], features_train[idx]\n",
    "\n",
    "# get the same entry (and its index) in the original dataset\n",
    "idx_full = np.where(labels.candid == candid)[0][0]\n",
    "entry_full = labels.iloc[idx_full]\n",
    "candid_full, label_full = entry_full.candid, entry_full.label\n",
    "full_t, full_m = load_triplet_from_disk(triplets[idx_full:idx_full+1])[0], features[idx_full]\n",
    "\n",
    "assert candid == candid_full\n",
    "assert label == label_full\n",
    "assert np.allclose(train_t, full_t)\n",
    "assert np.allclose(train_m, full_m)"
   ]
  },
  {
   "cell_type": "markdown",
   "metadata": {
    "id": "cULq9hCOTwrN"
   },
   "source": [
    "Great, we successfully shuffled the data and split it into training, validation, and testing sets. One thing we also need to do is to drop the candid and objectId column and only keep the label column in the labels, to make it an array of shape `(n, 1)`."
   ]
  },
  {
   "cell_type": "code",
   "execution_count": 32,
   "metadata": {
    "id": "Seke68SITwrN"
   },
   "outputs": [],
   "source": [
    "# labels have 3 columns still, just make it a 1D array from the label column only\n",
    "labels_train = labels['label'].values\n",
    "labels_val = labels_val['label'].values\n",
    "labels_test = labels_test['label'].values"
   ]
  },
  {
   "cell_type": "markdown",
   "metadata": {
    "id": "tmb0ArSRTwrN"
   },
   "source": [
    "Last but not least, we need to decide which label we want to predict, so we can make label a binary array of shape `(n, 1)` where 1 means that the alert is of the positive class, and 0 means that it is not. You might remember, but we are training a binary classifier, and focusing on the `h` (hosted) class. So, we want to predict whether an alert is hosted or not.\n",
    "This will also help us compute the class weights, which we'll use to balance the dataset between positive and negative classes."
   ]
  },
  {
   "cell_type": "code",
   "execution_count": 33,
   "metadata": {
    "id": "08nB0KnsTwrN"
   },
   "outputs": [],
   "source": [
    "# make the labels binary, with 1 for 'h' and 0 for anything else\n",
    "labels_train = (labels_train == 'h').astype(int)\n",
    "labels_val = (labels_val == 'h').astype(int)\n",
    "labels_test = (labels_test == 'h').astype(int)"
   ]
  },
  {
   "cell_type": "code",
   "execution_count": 34,
   "metadata": {
    "colab": {
     "base_uri": "https://localhost:8080/"
    },
    "id": "tKGdwSMrTwrN",
    "outputId": "b6716998-5e9c-4ed1-a8ad-9b60e1433fbf"
   },
   "outputs": [
    {
     "name": "stdout",
     "output_type": "stream",
     "text": [
      "Class weights: {0: 0.18127524139811194, 1: 1.0}\n"
     ]
    }
   ],
   "source": [
    "# compute the class weights, which is the proportion of each class in the dataset\n",
    "# here we use the training set to compute the class weights, because its during training that we need to balance the classes\n",
    "\n",
    "# CAUTION: we want to give MORE weight to the MINORITY class, so we use the inverse of the class proportions\n",
    "# weight data on number of ALERTS per class\n",
    "num_training_examples_per_class = np.array([np.sum(labels_train == 0), np.sum(labels_train == 1)])\n",
    "\n",
    "# fewer examples -> larger weight\n",
    "weights = (1 / num_training_examples_per_class) / np.linalg.norm((1 / num_training_examples_per_class))\n",
    "normalized_weight = weights / np.max(weights) # normalize\n",
    "\n",
    "class_weight = {i: w for i, w in enumerate(normalized_weight)}\n",
    "\n",
    "print(f\"Class weights: {class_weight}\")\n"
   ]
  },
  {
   "cell_type": "markdown",
   "metadata": {
    "id": "np1xGAXdTwrN"
   },
   "source": [
    "As you can see, now that all classes that are not `h` are part of the negative class, we have a large imbalance between the positive and negative classes. This is why we need to compute the class weights, to give more importance to the positive class during training. Thankfully with tensorflow, it is very easy to just pass the class weights to the model during training, and it will take care of the rest.\n",
    "\n",
    "**Now, we need to create the data generators that will loop over the data in batches and feed it to the model.**\n",
    "\n",
    "Luckily, we can create a simple python generator for that: https://wiki.python.org/moin/Generators\n",
    "\n",
    "Generators are pretty simple. Say you want a list of integers from 1 to 1 billion that you need to loop over. That would take way too much memory. Instead, you can build a generator that will compute the next integer in the list on the fly, everytime you loop over it. This way, you only need to store the current integer, and the logic to compute the next one. This is very useful when you have a lot of data, and you don't want to load it all in memory at once.\n",
    "\n",
    "Here we do the same thing, except at each iteration we want to generate a batch of data, for which we need to open some files on disk too. This allows us to use ~2GB of RAM while training, instead of >20GB if we loaded all of the images in memory. However it is slower, but it's a good tradeoff and fast enough for our small model that does not require too many training epochs."
   ]
  },
  {
   "cell_type": "code",
   "execution_count": 35,
   "metadata": {
    "id": "ymqs3p_gTwrO"
   },
   "outputs": [],
   "source": [
    "def get_data_generator(n_batches, batch_size, type='training'):\n",
    "    \"\"\"Given a number of batches, a batch size, and a type (training, validation, test),\n",
    "    returns a generator that yields the data in the correct format for the model at each iteration.\n",
    "\n",
    "    Args:\n",
    "        n_batches (int): number of batches to generate\n",
    "        batch_size (int): size of each batch\n",
    "        type (str): type of data to generate, one of 'training', 'validation', 'test'\n",
    "\n",
    "    Returns:\n",
    "        generator: a generator that yields the data in the correct format for the model at each iteration\n",
    "    \"\"\"\n",
    "\n",
    "    def data_generator():\n",
    "        \"\"\"Yields the data in the correct format for the model at each iteration, given the type of data to generate.\"\"\"\n",
    "        if type == 'training':\n",
    "            for i in range(n_batches):\n",
    "                x = triplets_train[i*batch_size:(i+1)*batch_size]\n",
    "                x = load_triplet_from_disk(x)\n",
    "                s = features_train[i*batch_size:(i+1)*batch_size]\n",
    "                y = labels_train[i*batch_size:(i+1)*batch_size]\n",
    "                yield (x, s), y\n",
    "        elif type == 'validation':\n",
    "            for i in range(n_batches):\n",
    "                x = triplets_val[i*batch_size:(i+1)*batch_size]\n",
    "                x = load_triplet_from_disk(x)\n",
    "                s = features_val[i*batch_size:(i+1)*batch_size]\n",
    "                y = labels_val[i*batch_size:(i+1)*batch_size]\n",
    "                yield (x, s), y\n",
    "        elif type == 'test':\n",
    "            for i in range(n_batches):\n",
    "                x = triplets_test[i*batch_size:(i+1)*batch_size]\n",
    "                x = load_triplet_from_disk(x)\n",
    "                s = features_test[i*batch_size:(i+1)*batch_size]\n",
    "                y = labels_test[i*batch_size:(i+1)*batch_size]\n",
    "                yield (x, s), y\n",
    "    return data_generator"
   ]
  },
  {
   "cell_type": "markdown",
   "metadata": {
    "id": "Us93G83QTwrO"
   },
   "source": [
    "Now let's create the generators using the function we just wrote. We'll create one generator for each set (training, validation, and testing)."
   ]
  },
  {
   "cell_type": "code",
   "execution_count": 36,
   "metadata": {
    "id": "UJtYE-ZjTwrO"
   },
   "outputs": [],
   "source": [
    "dataset_train = Dataset.from_generator(\n",
    "    get_data_generator(n_batches=len(triplets_train)//config['batch_size'], batch_size=config['batch_size'], type='training'),\n",
    "    output_types=((tf.float32, tf.float32), tf.float32),\n",
    "    output_shapes=(([None, 63, 63, 3], [None, 25]), [None])\n",
    ").repeat()\n",
    "dataset_val = Dataset.from_generator(\n",
    "    get_data_generator(n_batches=len(triplets_val)//config['batch_size'], batch_size=config['batch_size'], type='validation'),\n",
    "    output_types=((tf.float32, tf.float32), tf.float32),\n",
    "    output_shapes=(([None, 63, 63, 3], [None, 25]), [None])\n",
    ").repeat()\n",
    "dataset_test = Dataset.from_generator(\n",
    "    get_data_generator(n_batches=len(triplets_test)//config['batch_size'], batch_size=config['batch_size'], type='test'),\n",
    "    output_types=((tf.float32, tf.float32), tf.float32),\n",
    "    output_shapes=(([None, 63, 63, 3], [None, 25]), [None])\n",
    ").repeat()"
   ]
  },
  {
   "cell_type": "markdown",
   "metadata": {
    "id": "WtPctUGvma34"
   },
   "source": [
    "---\n",
    "## Training\n",
    "\n",
    "Now, let's train the model!"
   ]
  },
  {
   "cell_type": "markdown",
   "metadata": {
    "id": "pyXxzWF6Sf2X"
   },
   "source": [
    "**Caution:** Google Colab is known for having poor disk reading speed, so training the model might take some time. While you can definitely run the other notebook in the meantime, I suggest:\n",
    "- reading the rest of the notebook\n",
    "- reading the other notebook: Real-time filtering of the ZTF data stream\n",
    "\n",
    "~ 95% validation accuracy should also be more than enough to use the model successfully, so feel free to stop the training when you reach that threshold. That could be as early as ~3 epochs, which shouldn't take more than 20 minutes. For those of you that have a decent machine (even without a GPU, just need an SSD), training the same number of epochs would only take ~2 minutes."
   ]
  },
  {
   "cell_type": "code",
   "execution_count": null,
   "metadata": {
    "colab": {
     "base_uri": "https://localhost:8080/"
    },
    "id": "UdZoapt8TwrO",
    "outputId": "d45700bb-2d71-4a64-f746-97e260afd62f"
   },
   "outputs": [
    {
     "name": "stdout",
     "output_type": "stream",
     "text": [
      "Epoch 1/5\n",
      "\u001b[1m4657/4657\u001b[0m \u001b[32m━━━━━━━━━━━━━━━━━━━━\u001b[0m\u001b[37m\u001b[0m \u001b[1m158s\u001b[0m 34ms/step - accuracy: 0.5817 - loss: 1.4105 - val_accuracy: 0.5863 - val_loss: 0.5665\n",
      "Epoch 2/5\n",
      "\u001b[1m2967/4657\u001b[0m \u001b[32m━━━━━━━━━━━━\u001b[0m\u001b[37m━━━━━━━━\u001b[0m \u001b[1m1:02\u001b[0m 37ms/step - accuracy: 0.6073 - loss: 0.1719"
     ]
    }
   ],
   "source": [
    "model = build_model(config)\n",
    "history = model.fit(\n",
    "    dataset_train,\n",
    "    steps_per_epoch=(len(features_train) // config[\"batch_size\"]),\n",
    "    validation_data=dataset_val,\n",
    "    validation_steps=(len(features_val) // config[\"batch_size\"]),\n",
    "    epochs=config[\"epochs\"],\n",
    "    class_weight=class_weight,\n",
    "    verbose=1,\n",
    ")"
   ]
  },
  {
   "cell_type": "markdown",
   "metadata": {
    "id": "zqNGBwmxTwrO"
   },
   "source": [
    "Unless something horribly wrong has happened, the accuracy should look pretty good already. Even a simple architecture like this one can achieve good results on this dataset. Compared to the other acai models (say the variable model that doesn't have access to a lightcurve for example), `acai_h` can learn a lot just from the images. We plotted some images at the beginning of this notebook, and its clear that telling if an alert is hosted is not so hard to do by eye, even for a human. The model can learn a lot from the images, and the metadata features are just here to help it make a more informed decision. ML doesn't have to always be complicated nor does it have to perform tasks that are impossible for a human to do. The huge advantage of ML is that it can do it very very fast in real time as the data comes in, which is something a human or a lot of humans can't do at all.\n",
    "\n",
    "**Let's take a look at a few metrics to evaluate the model's performance, and double-check that it did learn something.**"
   ]
  },
  {
   "cell_type": "markdown",
   "metadata": {
    "id": "ITvthRKwTwrO"
   },
   "source": [
    "---\n",
    "## Evaluation\n",
    "\n",
    "The `history` variable returned by `model.fit(...)` contains the training and validation loss and accuracy for each epoch. Let's start the model evaluation by plotting the training and validation loss and accuracy as a function of the epoch number, to see how the model performed during training and verify that it did not overfit the training data."
   ]
  },
  {
   "cell_type": "code",
   "execution_count": null,
   "metadata": {
    "colab": {
     "base_uri": "https://localhost:8080/",
     "height": 545
    },
    "id": "gBpKQwcDTwrO",
    "outputId": "76d88c75-55e0-41a9-92ea-233d0f50bdd1"
   },
   "outputs": [
    {
     "data": {
      "image/png": "[encoded data removed]",
      "text/plain": [
       "<Figure size 1200x600 with 2 Axes>"
      ]
     },
     "metadata": {},
     "output_type": "display_data"
    }
   ],
   "source": [
    "fig, axs = plt.subplots(1, 2, figsize=(12, 6))\n",
    "\n",
    "axs[0].plot(history.history['loss'], label='train')\n",
    "axs[0].plot(history.history['val_loss'], label='val')\n",
    "axs[0].set_title('Loss')\n",
    "axs[0].legend()\n",
    "\n",
    "axs[1].plot(history.history['accuracy'], label='train')\n",
    "axs[1].plot(history.history['val_accuracy'], label='val')\n",
    "axs[1].set_title('Accuracy')\n",
    "axs[1].legend()\n",
    "\n",
    "plt.show()"
   ]
  },
  {
   "cell_type": "markdown",
   "metadata": {
    "id": "MR-OsR1NTwrO"
   },
   "source": [
    "**Exercise 5:**\n",
    "- Compute the accuracy on the test set\n",
    "- Show a confusion matrix to see how the model performed on the test set (optional)."
   ]
  },
  {
   "cell_type": "code",
   "execution_count": null,
   "metadata": {
    "colab": {
     "base_uri": "https://localhost:8080/"
    },
    "id": "CGFmwmrITwrO",
    "outputId": "a8838beb-818c-4959-e27f-82587a97d660"
   },
   "outputs": [
    {
     "name": "stdout",
     "output_type": "stream",
     "text": [
      "\u001b[1m582/582\u001b[0m \u001b[32m━━━━━━━━━━━━━━━━━━━━\u001b[0m\u001b[37m\u001b[0m \u001b[1m52s\u001b[0m 88ms/step - accuracy: 0.9237 - loss: 0.1661\n",
      "Test loss: 0.1656244546175003\n",
      "Test accuracy: 0.9240764379501343\n"
     ]
    }
   ],
   "source": [
    "# insert your code here\n",
    "loss, acc = ...\n",
    "print(f\"Test loss: {loss}\")\n",
    "print(f\"Test accuracy: {acc}\")"
   ]
  },
  {
   "cell_type": "markdown",
   "metadata": {
    "id": "m1pwjeC4TwrO"
   },
   "source": [
    "**Exercise 6 (optional):**\n",
    "- Compute the accuracy, precision, recall, and F1 score of the model on the training, validation, and testing sets.\n",
    "- Plot the ROC curve and compute the AUC score of the model on the testing set.\n",
    "\n",
    "*Hint*: You can use the `sklearn.metrics` module to compute the metrics and plot the ROC curve."
   ]
  },
  {
   "cell_type": "code",
   "execution_count": null,
   "metadata": {
    "id": "Bp5GMn0ETwrO"
   },
   "outputs": [],
   "source": [
    "# insert your code here"
   ]
  },
  {
   "cell_type": "markdown",
   "metadata": {
    "id": "y-6iar90TwrO"
   },
   "source": [
    "---\n",
    "## Saving the model\n",
    "\n",
    "**Almost done! Let's save the model to disk, so we can import it where we want to run real-time inference on a ZTF alert stream.**"
   ]
  },
  {
   "cell_type": "code",
   "execution_count": null,
   "metadata": {
    "id": "a32RVhF2TwrO"
   },
   "outputs": [],
   "source": [
    "# save the model\n",
    "# create a name like acai_h_YYMMDD_HHMMSS.h5\n",
    "now = datetime.datetime.now().strftime(\"%Y%m%d_%H%M%S\")\n",
    "model.save(f\"acai_h_{now}.keras\")"
   ]
  },
  {
   "cell_type": "markdown",
   "metadata": {
    "id": "nenE1-RWcMem"
   },
   "source": [
    "Last but not least, if you are on Google Colab, **right click on the model in the list of file -> click download**, so you can later import that model whenever you need to use it."
   ]
  },
  {
   "cell_type": "markdown",
   "metadata": {
    "id": "e6dSKMIWUkku"
   },
   "source": [
    "**Keep in mind that you can EASILY use this dataset to train other models, that could be more interesting depending on your science case.**"
   ]
  },
  {
   "cell_type": "markdown",
   "metadata": {
    "id": "0K54Opzocf5d"
   },
   "source": [
    "---\n",
    "## Thanks\n",
    "\n",
    "Thank you for going through that notebook!\n",
    "Feel free to use it as a resource for future projects, and don't hesitate to reach out to me by [email](mailto:tdulaz@caltech) with any question.\n",
    "\n",
    "*Also, big thanks to Dima Duev for developing these `ACAI` models in the first place. These multi-modal architecture applied to astronomical alerts helped develop other models like `BTSbot` that we now use to create end-to-end automated SN discovery+identification+ spectral classification systems for the Zwicky Transient Facility.*"
   ]
  }
 ],
 "metadata": {
  "accelerator": "GPU",
  "colab": {
   "gpuType": "T4",
   "provenance": []
  },
  "kernelspec": {
   "display_name": "ztfss",
   "language": "python",
   "name": "ztfss"
  },
  "language_info": {
   "codemirror_mode": {
    "name": "ipython",
    "version": 3
   },
   "file_extension": ".py",
   "mimetype": "text/x-python",
   "name": "python",
   "nbconvert_exporter": "python",
   "pygments_lexer": "ipython3",
   "version": "3.11.0"
  }
 },
 "nbformat": 4,
 "nbformat_minor": 4
}
